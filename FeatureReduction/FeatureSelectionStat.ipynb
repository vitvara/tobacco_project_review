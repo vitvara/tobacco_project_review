{
  "cells": [
    {
      "cell_type": "code",
      "execution_count": 1,
      "metadata": {
        "id": "9H5GCfBZlnsK"
      },
      "outputs": [],
      "source": [
        "from scipy import stats as st\n",
        "import numpy as np\n",
        "import pandas as pd\n",
        "import os\n",
        "import plotly.express as px\n",
        "import matplotlib.pyplot as plt"
      ]
    },
    {
      "cell_type": "code",
      "execution_count": 2,
      "metadata": {
        "colab": {
          "base_uri": "https://localhost:8080/"
        },
        "id": "HfRmA9FSmUtm",
        "outputId": "be5c75af-2b14-420c-949a-3cd404e1abd2"
      },
      "outputs": [
        {
          "output_type": "stream",
          "name": "stdout",
          "text": [
            "Looking in indexes: https://pypi.org/simple, https://us-python.pkg.dev/colab-wheels/public/simple/\n",
            "Requirement already satisfied: xlrd in /usr/local/lib/python3.7/dist-packages (1.1.0)\n",
            "Collecting xlrd\n",
            "  Downloading xlrd-2.0.1-py2.py3-none-any.whl (96 kB)\n",
            "\u001b[K     |████████████████████████████████| 96 kB 2.8 MB/s \n",
            "\u001b[?25hInstalling collected packages: xlrd\n",
            "  Attempting uninstall: xlrd\n",
            "    Found existing installation: xlrd 1.1.0\n",
            "    Uninstalling xlrd-1.1.0:\n",
            "      Successfully uninstalled xlrd-1.1.0\n",
            "Successfully installed xlrd-2.0.1\n",
            "Looking in indexes: https://pypi.org/simple, https://us-python.pkg.dev/colab-wheels/public/simple/\n",
            "Collecting umap-learn\n",
            "  Downloading umap-learn-0.5.3.tar.gz (88 kB)\n",
            "\u001b[K     |████████████████████████████████| 88 kB 3.7 MB/s \n",
            "\u001b[?25hRequirement already satisfied: numpy>=1.17 in /usr/local/lib/python3.7/dist-packages (from umap-learn) (1.21.6)\n",
            "Requirement already satisfied: scikit-learn>=0.22 in /usr/local/lib/python3.7/dist-packages (from umap-learn) (1.0.2)\n",
            "Requirement already satisfied: scipy>=1.0 in /usr/local/lib/python3.7/dist-packages (from umap-learn) (1.4.1)\n",
            "Requirement already satisfied: numba>=0.49 in /usr/local/lib/python3.7/dist-packages (from umap-learn) (0.51.2)\n",
            "Collecting pynndescent>=0.5\n",
            "  Downloading pynndescent-0.5.7.tar.gz (1.1 MB)\n",
            "\u001b[K     |████████████████████████████████| 1.1 MB 33.1 MB/s \n",
            "\u001b[?25hRequirement already satisfied: tqdm in /usr/local/lib/python3.7/dist-packages (from umap-learn) (4.64.0)\n",
            "Requirement already satisfied: setuptools in /usr/local/lib/python3.7/dist-packages (from numba>=0.49->umap-learn) (57.4.0)\n",
            "Requirement already satisfied: llvmlite<0.35,>=0.34.0.dev0 in /usr/local/lib/python3.7/dist-packages (from numba>=0.49->umap-learn) (0.34.0)\n",
            "Requirement already satisfied: joblib>=0.11 in /usr/local/lib/python3.7/dist-packages (from pynndescent>=0.5->umap-learn) (1.1.0)\n",
            "Requirement already satisfied: threadpoolctl>=2.0.0 in /usr/local/lib/python3.7/dist-packages (from scikit-learn>=0.22->umap-learn) (3.1.0)\n",
            "Building wheels for collected packages: umap-learn, pynndescent\n",
            "  Building wheel for umap-learn (setup.py) ... \u001b[?25l\u001b[?25hdone\n",
            "  Created wheel for umap-learn: filename=umap_learn-0.5.3-py3-none-any.whl size=82829 sha256=fe49926a3294083f5cf259303ec8a9b0d5a634188761d75a7a0ffdfacb22d68c\n",
            "  Stored in directory: /root/.cache/pip/wheels/b3/52/a5/1fd9e3e76a7ab34f134c07469cd6f16e27ef3a37aeff1fe821\n",
            "  Building wheel for pynndescent (setup.py) ... \u001b[?25l\u001b[?25hdone\n",
            "  Created wheel for pynndescent: filename=pynndescent-0.5.7-py3-none-any.whl size=54286 sha256=c501f6b0a75ac864b7420b2cf8dbac3e0288c33c8f2f1bae982386fdb0277472\n",
            "  Stored in directory: /root/.cache/pip/wheels/7f/2a/f8/7bd5dcec71bd5c669f6f574db3113513696b98f3f9b51f496c\n",
            "Successfully built umap-learn pynndescent\n",
            "Installing collected packages: pynndescent, umap-learn\n",
            "Successfully installed pynndescent-0.5.7 umap-learn-0.5.3\n",
            "Looking in indexes: https://pypi.org/simple, https://us-python.pkg.dev/colab-wheels/public/simple/\n",
            "Collecting kaleido\n",
            "  Downloading kaleido-0.2.1-py2.py3-none-manylinux1_x86_64.whl (79.9 MB)\n",
            "\u001b[K     |████████████████████████████████| 79.9 MB 113 kB/s \n",
            "\u001b[?25hInstalling collected packages: kaleido\n",
            "Successfully installed kaleido-0.2.1\n"
          ]
        }
      ],
      "source": [
        "!pip install --upgrade xlrd\n",
        "!pip install umap-learn\n",
        "!pip install kaleido"
      ]
    },
    {
      "cell_type": "code",
      "execution_count": 3,
      "metadata": {
        "colab": {
          "base_uri": "https://localhost:8080/"
        },
        "id": "Csn9BLpPmZY7",
        "outputId": "33b8b309-9156-49a7-f49a-227a28eb9c75"
      },
      "outputs": [
        {
          "output_type": "stream",
          "name": "stdout",
          "text": [
            "rm: cannot remove 'Bin_data.zip': No such file or directory\n",
            "--2022-06-17 03:43:41--  https://github.com/vitvara/tobacco_project_review/raw/main/zip_file/Bin_data.zip\n",
            "Resolving github.com (github.com)... 140.82.114.3\n",
            "Connecting to github.com (github.com)|140.82.114.3|:443... connected.\n",
            "HTTP request sent, awaiting response... 302 Found\n",
            "Location: https://raw.githubusercontent.com/vitvara/tobacco_project_review/main/zip_file/Bin_data.zip [following]\n",
            "--2022-06-17 03:43:41--  https://raw.githubusercontent.com/vitvara/tobacco_project_review/main/zip_file/Bin_data.zip\n",
            "Resolving raw.githubusercontent.com (raw.githubusercontent.com)... 185.199.108.133, 185.199.109.133, 185.199.110.133, ...\n",
            "Connecting to raw.githubusercontent.com (raw.githubusercontent.com)|185.199.108.133|:443... connected.\n",
            "HTTP request sent, awaiting response... 200 OK\n",
            "Length: 2118870 (2.0M) [application/zip]\n",
            "Saving to: ‘Bin_data.zip’\n",
            "\n",
            "Bin_data.zip        100%[===================>]   2.02M  --.-KB/s    in 0.06s   \n",
            "\n",
            "2022-06-17 03:43:42 (32.4 MB/s) - ‘Bin_data.zip’ saved [2118870/2118870]\n",
            "\n"
          ]
        }
      ],
      "source": [
        "import zipfile\n",
        "!rm Bin_data.zip\n",
        "!wget https://github.com/vitvara/tobacco_project_review/raw/main/zip_file/Bin_data.zip\n",
        "with zipfile.ZipFile(\"Bin_data.zip\",\"r\") as zip_ref:\n",
        "    zip_ref.extractall()"
      ]
    },
    {
      "cell_type": "code",
      "execution_count": 4,
      "metadata": {
        "id": "hAgFcfMlmao0"
      },
      "outputs": [],
      "source": [
        "category_list = [\"Burley\", \"Turkish\", \"Virginia\"]\n",
        "category_color = {\"Burley\":1, \"Turkish\":2, \"Virginia\":3}\n",
        "all = []\n",
        "c = []\n",
        "samples = []\n",
        "for category in category_list:\n",
        "    for filename in os.listdir(os.path.join(\"Bin_data\", category)):\n",
        "        df = pd.read_excel(os.path.join(\"Bin_data\", category, filename))\n",
        "        samples.append(df)\n",
        "        c.append(category_color[category])\n",
        "        out = df.iloc[:, 1:].to_numpy().flatten(\"F\").tolist()\n",
        "        all.append(out)\n",
        "        if len(out) != 11000:\n",
        "            print(filename)"
      ]
    },
    {
      "cell_type": "code",
      "execution_count": 5,
      "metadata": {
        "id": "X2loFmdzpKFz"
      },
      "outputs": [],
      "source": [
        "from sklearn.neural_network import MLPClassifier\n",
        "from sklearn.model_selection import train_test_split\n",
        "from sklearn.ensemble import RandomForestClassifier\n",
        "from sklearn.linear_model import LogisticRegression\n",
        "\n",
        "def test_raw_data(all, c):\n",
        "    avgnural = 0\n",
        "    avgrf = 0\n",
        "    avglr = 0\n",
        "    test_case = [0, 12, 34, 42, 75, 100, 150, 123, 343, 1034, 5643]\n",
        "    highest = []\n",
        "    lowest = [999999999]\n",
        "    for i in test_case:\n",
        "        print(\"random state:\", i)\n",
        "        X_train, X_test, y_train, y_test = train_test_split(all, c, test_size=0.33, random_state=i, stratify=c)\n",
        "\n",
        "        reg = LogisticRegression(max_iter=100000000)\n",
        "        rf = RandomForestClassifier(n_estimators=1000, random_state=0)\n",
        "        clf = MLPClassifier(alpha=1e-05, hidden_layer_sizes=(20,), random_state=42,max_iter=100000,\n",
        "                    solver='lbfgs')\n",
        "        clf.fit(X_train, y_train)\n",
        "        a = clf.score(X_test, y_test)\n",
        "\n",
        "        rf.fit(X_train, y_train)\n",
        "        b = rf.score(X_test, y_test)\n",
        "\n",
        "        reg.fit(X_train, y_train)\n",
        "        c1 = reg.score(X_test,y_test)\n",
        "        print(\"MLP RF LR scores:\", a,b,c1)\n",
        "        avgnural += a\n",
        "        avgrf += b\n",
        "        avglr += c1\n",
        "        if sum(highest)/3 < sum([a,b,c1])/3:\n",
        "            highest = [a,b,c1]\n",
        "        if sum(lowest)/3 > sum([a,b,c1])/3:\n",
        "            lowest = [a,b,c1]\n",
        "    print(\n",
        "        \"avg MLP: \", avgnural/len(test_case)\n",
        "    )\n",
        "    print(\n",
        "        \"avg RF: \", avgrf/len(test_case)\n",
        "    )\n",
        "    print(\n",
        "        \"avg LR: \", avglr/len(test_case)\n",
        "    )\n",
        "    print(\"highest:\", highest)\n",
        "    print(\"lowest:\", lowest)\n",
        "    return (avgnural/len(test_case) + avgrf/len(test_case) + avglr/len(test_case))/3"
      ]
    },
    {
      "cell_type": "code",
      "execution_count": 63,
      "metadata": {
        "id": "fnFyuAGqwJN3"
      },
      "outputs": [],
      "source": [
        "def fea_select(data: list, n_feature: int, importance: list) -> list:\n",
        "    f_i = list(zip(range(len(importance)),importance))\n",
        "    f_i.sort(key = lambda x : x[1])\n",
        "    out = []\n",
        "    for row in data:\n",
        "        out.append([row[i[0]] for i in f_i[-1:-n_feature:-1]])\n",
        "    return out\n",
        "\n",
        "def find_feature_importance(data: list, classes: list, importance: list) -> int:\n",
        "    max = -9999999\n",
        "    n_max_feature = None\n",
        "    for i in [1000, 750, 500, 250, 100, 75, 50, 25, 10, 5]:\n",
        "        reduced = fea_select(data, i, importance)\n",
        "        np.array(reduced).shape\n",
        "        result = test_raw_data(reduced, classes)\n",
        "        if result > max:\n",
        "            max = result\n",
        "            n_max_feature = i\n",
        "    print(\"N feature:\", n_max_feature)\n",
        "    target = n_max_feature\n",
        "    max = -9999999\n",
        "    n_max_feature = None\n",
        "    for i in [target-10, target-5, target, target+5, target+10]:\n",
        "        reduced = fea_select(data, i, importance)\n",
        "        np.array(reduced).shape\n",
        "        result = test_raw_data(reduced, classes)\n",
        "        if result > max:\n",
        "            max = result\n",
        "            n_max_feature = i\n",
        "    print(n_max_feature, \"RESULT\")\n",
        "    n_max_feature\n",
        "    max\n",
        "    reduced = fea_select(data, n_max_feature, importance)\n",
        "    np.array(reduced).shape\n",
        "    result = test_raw_data(reduced, classes)\n",
        "    return result\n",
        "\n",
        "def get_feature(importance: list, n_features: int):\n",
        "    f_i = list(zip(range(len(importance)),importance))\n",
        "    f_i.sort(key = lambda x : x[1], reverse=True)\n",
        "    return np.array(f_i)[:,0][:n_features]\n",
        "    "
      ]
    },
    {
      "cell_type": "code",
      "source": [
        "feature_burley = pd.read_excel(\"FeatureSelectedBurley.xlsx\")\n",
        "feature_turkish = pd.read_excel(\"FeatureSelectedTurkish.xlsx\")\n",
        "feature_virginia = pd.read_excel(\"FeatureSelectedVirginia.xlsx\")"
      ],
      "metadata": {
        "id": "iSdqguhU3AmV"
      },
      "execution_count": 7,
      "outputs": []
    },
    {
      "cell_type": "code",
      "source": [
        "feature_train = feature_virginia\n",
        "selected = fea_select(all, 5000, feature_train.values.flatten())\n"
      ],
      "metadata": {
        "id": "BO-Yj2Lj3TCa"
      },
      "execution_count": 78,
      "outputs": []
    },
    {
      "cell_type": "code",
      "source": [
        "x = 3\n",
        "classes = []\n",
        "for i in c:\n",
        "    if i == x:\n",
        "        classes.append(1)\n",
        "    else:\n",
        "        classes.append(0)"
      ],
      "metadata": {
        "id": "U4yzh_Rc47j7"
      },
      "execution_count": 79,
      "outputs": []
    },
    {
      "cell_type": "code",
      "source": [
        "test_raw_data(selected, classes)"
      ],
      "metadata": {
        "id": "VnpgTQtB3gtU"
      },
      "execution_count": null,
      "outputs": []
    },
    {
      "cell_type": "code",
      "execution_count": 90,
      "metadata": {
        "colab": {
          "base_uri": "https://localhost:8080/"
        },
        "id": "YmbLp_snwlTD",
        "outputId": "8693c4ac-febb-42b1-b978-7ac32f9731b3"
      },
      "outputs": [
        {
          "output_type": "execute_result",
          "data": {
            "text/plain": [
              "RandomForestClassifier(random_state=0)"
            ]
          },
          "metadata": {},
          "execution_count": 90
        }
      ],
      "source": [
        "\n",
        "\n",
        "\n",
        "rf = RandomForestClassifier(random_state=0)\n",
        "rf.fit(selected,c)"
      ]
    },
    {
      "cell_type": "code",
      "source": [
        "impor_selected = fea_select(all, , rf.feature_importances_)\n",
        "test_raw_data(impor_selected, classes)"
      ],
      "metadata": {
        "id": "wNbE_urXy9WS",
        "outputId": "bc76f1bd-8d8d-42ad-df38-61b1795331f8",
        "colab": {
          "base_uri": "https://localhost:8080/",
          "height": 443
        }
      },
      "execution_count": 81,
      "outputs": [
        {
          "output_type": "stream",
          "name": "stdout",
          "text": [
            "random state: 0\n",
            "MLP RF LR scores: 0.5185185185185185 0.5555555555555556 0.5555555555555556\n",
            "random state: 12\n"
          ]
        },
        {
          "output_type": "error",
          "ename": "KeyboardInterrupt",
          "evalue": "ignored",
          "traceback": [
            "\u001b[0;31m---------------------------------------------------------------------------\u001b[0m",
            "\u001b[0;31mKeyboardInterrupt\u001b[0m                         Traceback (most recent call last)",
            "\u001b[0;32m<ipython-input-81-b91ebc0c19c1>\u001b[0m in \u001b[0;36m<module>\u001b[0;34m()\u001b[0m\n\u001b[1;32m      1\u001b[0m \u001b[0mimpor_selected\u001b[0m \u001b[0;34m=\u001b[0m \u001b[0mfea_select\u001b[0m\u001b[0;34m(\u001b[0m\u001b[0mall\u001b[0m\u001b[0;34m,\u001b[0m \u001b[0;36m5\u001b[0m\u001b[0;34m,\u001b[0m \u001b[0mrf\u001b[0m\u001b[0;34m.\u001b[0m\u001b[0mfeature_importances_\u001b[0m\u001b[0;34m)\u001b[0m\u001b[0;34m\u001b[0m\u001b[0;34m\u001b[0m\u001b[0m\n\u001b[0;32m----> 2\u001b[0;31m \u001b[0mtest_raw_data\u001b[0m\u001b[0;34m(\u001b[0m\u001b[0mimpor_selected\u001b[0m\u001b[0;34m,\u001b[0m \u001b[0mclasses\u001b[0m\u001b[0;34m)\u001b[0m\u001b[0;34m\u001b[0m\u001b[0;34m\u001b[0m\u001b[0m\n\u001b[0m",
            "\u001b[0;32m<ipython-input-5-2eab8b4d8ac1>\u001b[0m in \u001b[0;36mtest_raw_data\u001b[0;34m(all, c)\u001b[0m\n\u001b[1;32m     22\u001b[0m         \u001b[0ma\u001b[0m \u001b[0;34m=\u001b[0m \u001b[0mclf\u001b[0m\u001b[0;34m.\u001b[0m\u001b[0mscore\u001b[0m\u001b[0;34m(\u001b[0m\u001b[0mX_test\u001b[0m\u001b[0;34m,\u001b[0m \u001b[0my_test\u001b[0m\u001b[0;34m)\u001b[0m\u001b[0;34m\u001b[0m\u001b[0;34m\u001b[0m\u001b[0m\n\u001b[1;32m     23\u001b[0m \u001b[0;34m\u001b[0m\u001b[0m\n\u001b[0;32m---> 24\u001b[0;31m         \u001b[0mrf\u001b[0m\u001b[0;34m.\u001b[0m\u001b[0mfit\u001b[0m\u001b[0;34m(\u001b[0m\u001b[0mX_train\u001b[0m\u001b[0;34m,\u001b[0m \u001b[0my_train\u001b[0m\u001b[0;34m)\u001b[0m\u001b[0;34m\u001b[0m\u001b[0;34m\u001b[0m\u001b[0m\n\u001b[0m\u001b[1;32m     25\u001b[0m         \u001b[0mb\u001b[0m \u001b[0;34m=\u001b[0m \u001b[0mrf\u001b[0m\u001b[0;34m.\u001b[0m\u001b[0mscore\u001b[0m\u001b[0;34m(\u001b[0m\u001b[0mX_test\u001b[0m\u001b[0;34m,\u001b[0m \u001b[0my_test\u001b[0m\u001b[0;34m)\u001b[0m\u001b[0;34m\u001b[0m\u001b[0;34m\u001b[0m\u001b[0m\n\u001b[1;32m     26\u001b[0m \u001b[0;34m\u001b[0m\u001b[0m\n",
            "\u001b[0;32m/usr/local/lib/python3.7/dist-packages/sklearn/ensemble/_forest.py\u001b[0m in \u001b[0;36mfit\u001b[0;34m(self, X, y, sample_weight)\u001b[0m\n\u001b[1;32m    465\u001b[0m                     \u001b[0mn_samples_bootstrap\u001b[0m\u001b[0;34m=\u001b[0m\u001b[0mn_samples_bootstrap\u001b[0m\u001b[0;34m,\u001b[0m\u001b[0;34m\u001b[0m\u001b[0;34m\u001b[0m\u001b[0m\n\u001b[1;32m    466\u001b[0m                 )\n\u001b[0;32m--> 467\u001b[0;31m                 \u001b[0;32mfor\u001b[0m \u001b[0mi\u001b[0m\u001b[0;34m,\u001b[0m \u001b[0mt\u001b[0m \u001b[0;32min\u001b[0m \u001b[0menumerate\u001b[0m\u001b[0;34m(\u001b[0m\u001b[0mtrees\u001b[0m\u001b[0;34m)\u001b[0m\u001b[0;34m\u001b[0m\u001b[0;34m\u001b[0m\u001b[0m\n\u001b[0m\u001b[1;32m    468\u001b[0m             )\n\u001b[1;32m    469\u001b[0m \u001b[0;34m\u001b[0m\u001b[0m\n",
            "\u001b[0;32m/usr/local/lib/python3.7/dist-packages/joblib/parallel.py\u001b[0m in \u001b[0;36m__call__\u001b[0;34m(self, iterable)\u001b[0m\n\u001b[1;32m   1044\u001b[0m                 \u001b[0mself\u001b[0m\u001b[0;34m.\u001b[0m\u001b[0m_iterating\u001b[0m \u001b[0;34m=\u001b[0m \u001b[0mself\u001b[0m\u001b[0;34m.\u001b[0m\u001b[0m_original_iterator\u001b[0m \u001b[0;32mis\u001b[0m \u001b[0;32mnot\u001b[0m \u001b[0;32mNone\u001b[0m\u001b[0;34m\u001b[0m\u001b[0;34m\u001b[0m\u001b[0m\n\u001b[1;32m   1045\u001b[0m \u001b[0;34m\u001b[0m\u001b[0m\n\u001b[0;32m-> 1046\u001b[0;31m             \u001b[0;32mwhile\u001b[0m \u001b[0mself\u001b[0m\u001b[0;34m.\u001b[0m\u001b[0mdispatch_one_batch\u001b[0m\u001b[0;34m(\u001b[0m\u001b[0miterator\u001b[0m\u001b[0;34m)\u001b[0m\u001b[0;34m:\u001b[0m\u001b[0;34m\u001b[0m\u001b[0;34m\u001b[0m\u001b[0m\n\u001b[0m\u001b[1;32m   1047\u001b[0m                 \u001b[0;32mpass\u001b[0m\u001b[0;34m\u001b[0m\u001b[0;34m\u001b[0m\u001b[0m\n\u001b[1;32m   1048\u001b[0m \u001b[0;34m\u001b[0m\u001b[0m\n",
            "\u001b[0;32m/usr/local/lib/python3.7/dist-packages/joblib/parallel.py\u001b[0m in \u001b[0;36mdispatch_one_batch\u001b[0;34m(self, iterator)\u001b[0m\n\u001b[1;32m    859\u001b[0m                 \u001b[0;32mreturn\u001b[0m \u001b[0;32mFalse\u001b[0m\u001b[0;34m\u001b[0m\u001b[0;34m\u001b[0m\u001b[0m\n\u001b[1;32m    860\u001b[0m             \u001b[0;32melse\u001b[0m\u001b[0;34m:\u001b[0m\u001b[0;34m\u001b[0m\u001b[0;34m\u001b[0m\u001b[0m\n\u001b[0;32m--> 861\u001b[0;31m                 \u001b[0mself\u001b[0m\u001b[0;34m.\u001b[0m\u001b[0m_dispatch\u001b[0m\u001b[0;34m(\u001b[0m\u001b[0mtasks\u001b[0m\u001b[0;34m)\u001b[0m\u001b[0;34m\u001b[0m\u001b[0;34m\u001b[0m\u001b[0m\n\u001b[0m\u001b[1;32m    862\u001b[0m                 \u001b[0;32mreturn\u001b[0m \u001b[0;32mTrue\u001b[0m\u001b[0;34m\u001b[0m\u001b[0;34m\u001b[0m\u001b[0m\n\u001b[1;32m    863\u001b[0m \u001b[0;34m\u001b[0m\u001b[0m\n",
            "\u001b[0;32m/usr/local/lib/python3.7/dist-packages/joblib/parallel.py\u001b[0m in \u001b[0;36m_dispatch\u001b[0;34m(self, batch)\u001b[0m\n\u001b[1;32m    777\u001b[0m         \u001b[0;32mwith\u001b[0m \u001b[0mself\u001b[0m\u001b[0;34m.\u001b[0m\u001b[0m_lock\u001b[0m\u001b[0;34m:\u001b[0m\u001b[0;34m\u001b[0m\u001b[0;34m\u001b[0m\u001b[0m\n\u001b[1;32m    778\u001b[0m             \u001b[0mjob_idx\u001b[0m \u001b[0;34m=\u001b[0m \u001b[0mlen\u001b[0m\u001b[0;34m(\u001b[0m\u001b[0mself\u001b[0m\u001b[0;34m.\u001b[0m\u001b[0m_jobs\u001b[0m\u001b[0;34m)\u001b[0m\u001b[0;34m\u001b[0m\u001b[0;34m\u001b[0m\u001b[0m\n\u001b[0;32m--> 779\u001b[0;31m             \u001b[0mjob\u001b[0m \u001b[0;34m=\u001b[0m \u001b[0mself\u001b[0m\u001b[0;34m.\u001b[0m\u001b[0m_backend\u001b[0m\u001b[0;34m.\u001b[0m\u001b[0mapply_async\u001b[0m\u001b[0;34m(\u001b[0m\u001b[0mbatch\u001b[0m\u001b[0;34m,\u001b[0m \u001b[0mcallback\u001b[0m\u001b[0;34m=\u001b[0m\u001b[0mcb\u001b[0m\u001b[0;34m)\u001b[0m\u001b[0;34m\u001b[0m\u001b[0;34m\u001b[0m\u001b[0m\n\u001b[0m\u001b[1;32m    780\u001b[0m             \u001b[0;31m# A job can complete so quickly than its callback is\u001b[0m\u001b[0;34m\u001b[0m\u001b[0;34m\u001b[0m\u001b[0;34m\u001b[0m\u001b[0m\n\u001b[1;32m    781\u001b[0m             \u001b[0;31m# called before we get here, causing self._jobs to\u001b[0m\u001b[0;34m\u001b[0m\u001b[0;34m\u001b[0m\u001b[0;34m\u001b[0m\u001b[0m\n",
            "\u001b[0;32m/usr/local/lib/python3.7/dist-packages/joblib/_parallel_backends.py\u001b[0m in \u001b[0;36mapply_async\u001b[0;34m(self, func, callback)\u001b[0m\n\u001b[1;32m    206\u001b[0m     \u001b[0;32mdef\u001b[0m \u001b[0mapply_async\u001b[0m\u001b[0;34m(\u001b[0m\u001b[0mself\u001b[0m\u001b[0;34m,\u001b[0m \u001b[0mfunc\u001b[0m\u001b[0;34m,\u001b[0m \u001b[0mcallback\u001b[0m\u001b[0;34m=\u001b[0m\u001b[0;32mNone\u001b[0m\u001b[0;34m)\u001b[0m\u001b[0;34m:\u001b[0m\u001b[0;34m\u001b[0m\u001b[0;34m\u001b[0m\u001b[0m\n\u001b[1;32m    207\u001b[0m         \u001b[0;34m\"\"\"Schedule a func to be run\"\"\"\u001b[0m\u001b[0;34m\u001b[0m\u001b[0;34m\u001b[0m\u001b[0m\n\u001b[0;32m--> 208\u001b[0;31m         \u001b[0mresult\u001b[0m \u001b[0;34m=\u001b[0m \u001b[0mImmediateResult\u001b[0m\u001b[0;34m(\u001b[0m\u001b[0mfunc\u001b[0m\u001b[0;34m)\u001b[0m\u001b[0;34m\u001b[0m\u001b[0;34m\u001b[0m\u001b[0m\n\u001b[0m\u001b[1;32m    209\u001b[0m         \u001b[0;32mif\u001b[0m \u001b[0mcallback\u001b[0m\u001b[0;34m:\u001b[0m\u001b[0;34m\u001b[0m\u001b[0;34m\u001b[0m\u001b[0m\n\u001b[1;32m    210\u001b[0m             \u001b[0mcallback\u001b[0m\u001b[0;34m(\u001b[0m\u001b[0mresult\u001b[0m\u001b[0;34m)\u001b[0m\u001b[0;34m\u001b[0m\u001b[0;34m\u001b[0m\u001b[0m\n",
            "\u001b[0;32m/usr/local/lib/python3.7/dist-packages/joblib/_parallel_backends.py\u001b[0m in \u001b[0;36m__init__\u001b[0;34m(self, batch)\u001b[0m\n\u001b[1;32m    570\u001b[0m         \u001b[0;31m# Don't delay the application, to avoid keeping the input\u001b[0m\u001b[0;34m\u001b[0m\u001b[0;34m\u001b[0m\u001b[0;34m\u001b[0m\u001b[0m\n\u001b[1;32m    571\u001b[0m         \u001b[0;31m# arguments in memory\u001b[0m\u001b[0;34m\u001b[0m\u001b[0;34m\u001b[0m\u001b[0;34m\u001b[0m\u001b[0m\n\u001b[0;32m--> 572\u001b[0;31m         \u001b[0mself\u001b[0m\u001b[0;34m.\u001b[0m\u001b[0mresults\u001b[0m \u001b[0;34m=\u001b[0m \u001b[0mbatch\u001b[0m\u001b[0;34m(\u001b[0m\u001b[0;34m)\u001b[0m\u001b[0;34m\u001b[0m\u001b[0;34m\u001b[0m\u001b[0m\n\u001b[0m\u001b[1;32m    573\u001b[0m \u001b[0;34m\u001b[0m\u001b[0m\n\u001b[1;32m    574\u001b[0m     \u001b[0;32mdef\u001b[0m \u001b[0mget\u001b[0m\u001b[0;34m(\u001b[0m\u001b[0mself\u001b[0m\u001b[0;34m)\u001b[0m\u001b[0;34m:\u001b[0m\u001b[0;34m\u001b[0m\u001b[0;34m\u001b[0m\u001b[0m\n",
            "\u001b[0;32m/usr/local/lib/python3.7/dist-packages/joblib/parallel.py\u001b[0m in \u001b[0;36m__call__\u001b[0;34m(self)\u001b[0m\n\u001b[1;32m    261\u001b[0m         \u001b[0;32mwith\u001b[0m \u001b[0mparallel_backend\u001b[0m\u001b[0;34m(\u001b[0m\u001b[0mself\u001b[0m\u001b[0;34m.\u001b[0m\u001b[0m_backend\u001b[0m\u001b[0;34m,\u001b[0m \u001b[0mn_jobs\u001b[0m\u001b[0;34m=\u001b[0m\u001b[0mself\u001b[0m\u001b[0;34m.\u001b[0m\u001b[0m_n_jobs\u001b[0m\u001b[0;34m)\u001b[0m\u001b[0;34m:\u001b[0m\u001b[0;34m\u001b[0m\u001b[0;34m\u001b[0m\u001b[0m\n\u001b[1;32m    262\u001b[0m             return [func(*args, **kwargs)\n\u001b[0;32m--> 263\u001b[0;31m                     for func, args, kwargs in self.items]\n\u001b[0m\u001b[1;32m    264\u001b[0m \u001b[0;34m\u001b[0m\u001b[0m\n\u001b[1;32m    265\u001b[0m     \u001b[0;32mdef\u001b[0m \u001b[0m__reduce__\u001b[0m\u001b[0;34m(\u001b[0m\u001b[0mself\u001b[0m\u001b[0;34m)\u001b[0m\u001b[0;34m:\u001b[0m\u001b[0;34m\u001b[0m\u001b[0;34m\u001b[0m\u001b[0m\n",
            "\u001b[0;32m/usr/local/lib/python3.7/dist-packages/joblib/parallel.py\u001b[0m in \u001b[0;36m<listcomp>\u001b[0;34m(.0)\u001b[0m\n\u001b[1;32m    261\u001b[0m         \u001b[0;32mwith\u001b[0m \u001b[0mparallel_backend\u001b[0m\u001b[0;34m(\u001b[0m\u001b[0mself\u001b[0m\u001b[0;34m.\u001b[0m\u001b[0m_backend\u001b[0m\u001b[0;34m,\u001b[0m \u001b[0mn_jobs\u001b[0m\u001b[0;34m=\u001b[0m\u001b[0mself\u001b[0m\u001b[0;34m.\u001b[0m\u001b[0m_n_jobs\u001b[0m\u001b[0;34m)\u001b[0m\u001b[0;34m:\u001b[0m\u001b[0;34m\u001b[0m\u001b[0;34m\u001b[0m\u001b[0m\n\u001b[1;32m    262\u001b[0m             return [func(*args, **kwargs)\n\u001b[0;32m--> 263\u001b[0;31m                     for func, args, kwargs in self.items]\n\u001b[0m\u001b[1;32m    264\u001b[0m \u001b[0;34m\u001b[0m\u001b[0m\n\u001b[1;32m    265\u001b[0m     \u001b[0;32mdef\u001b[0m \u001b[0m__reduce__\u001b[0m\u001b[0;34m(\u001b[0m\u001b[0mself\u001b[0m\u001b[0;34m)\u001b[0m\u001b[0;34m:\u001b[0m\u001b[0;34m\u001b[0m\u001b[0;34m\u001b[0m\u001b[0m\n",
            "\u001b[0;32m/usr/local/lib/python3.7/dist-packages/sklearn/utils/fixes.py\u001b[0m in \u001b[0;36m__call__\u001b[0;34m(self, *args, **kwargs)\u001b[0m\n\u001b[1;32m    214\u001b[0m     \u001b[0;32mdef\u001b[0m \u001b[0m__call__\u001b[0m\u001b[0;34m(\u001b[0m\u001b[0mself\u001b[0m\u001b[0;34m,\u001b[0m \u001b[0;34m*\u001b[0m\u001b[0margs\u001b[0m\u001b[0;34m,\u001b[0m \u001b[0;34m**\u001b[0m\u001b[0mkwargs\u001b[0m\u001b[0;34m)\u001b[0m\u001b[0;34m:\u001b[0m\u001b[0;34m\u001b[0m\u001b[0;34m\u001b[0m\u001b[0m\n\u001b[1;32m    215\u001b[0m         \u001b[0;32mwith\u001b[0m \u001b[0mconfig_context\u001b[0m\u001b[0;34m(\u001b[0m\u001b[0;34m**\u001b[0m\u001b[0mself\u001b[0m\u001b[0;34m.\u001b[0m\u001b[0mconfig\u001b[0m\u001b[0;34m)\u001b[0m\u001b[0;34m:\u001b[0m\u001b[0;34m\u001b[0m\u001b[0;34m\u001b[0m\u001b[0m\n\u001b[0;32m--> 216\u001b[0;31m             \u001b[0;32mreturn\u001b[0m \u001b[0mself\u001b[0m\u001b[0;34m.\u001b[0m\u001b[0mfunction\u001b[0m\u001b[0;34m(\u001b[0m\u001b[0;34m*\u001b[0m\u001b[0margs\u001b[0m\u001b[0;34m,\u001b[0m \u001b[0;34m**\u001b[0m\u001b[0mkwargs\u001b[0m\u001b[0;34m)\u001b[0m\u001b[0;34m\u001b[0m\u001b[0;34m\u001b[0m\u001b[0m\n\u001b[0m\u001b[1;32m    217\u001b[0m \u001b[0;34m\u001b[0m\u001b[0m\n\u001b[1;32m    218\u001b[0m \u001b[0;34m\u001b[0m\u001b[0m\n",
            "\u001b[0;32m/usr/local/lib/python3.7/dist-packages/sklearn/ensemble/_forest.py\u001b[0m in \u001b[0;36m_parallel_build_trees\u001b[0;34m(tree, forest, X, y, sample_weight, tree_idx, n_trees, verbose, class_weight, n_samples_bootstrap)\u001b[0m\n\u001b[1;32m    183\u001b[0m             \u001b[0mcurr_sample_weight\u001b[0m \u001b[0;34m*=\u001b[0m \u001b[0mcompute_sample_weight\u001b[0m\u001b[0;34m(\u001b[0m\u001b[0;34m\"balanced\"\u001b[0m\u001b[0;34m,\u001b[0m \u001b[0my\u001b[0m\u001b[0;34m,\u001b[0m \u001b[0mindices\u001b[0m\u001b[0;34m=\u001b[0m\u001b[0mindices\u001b[0m\u001b[0;34m)\u001b[0m\u001b[0;34m\u001b[0m\u001b[0;34m\u001b[0m\u001b[0m\n\u001b[1;32m    184\u001b[0m \u001b[0;34m\u001b[0m\u001b[0m\n\u001b[0;32m--> 185\u001b[0;31m         \u001b[0mtree\u001b[0m\u001b[0;34m.\u001b[0m\u001b[0mfit\u001b[0m\u001b[0;34m(\u001b[0m\u001b[0mX\u001b[0m\u001b[0;34m,\u001b[0m \u001b[0my\u001b[0m\u001b[0;34m,\u001b[0m \u001b[0msample_weight\u001b[0m\u001b[0;34m=\u001b[0m\u001b[0mcurr_sample_weight\u001b[0m\u001b[0;34m,\u001b[0m \u001b[0mcheck_input\u001b[0m\u001b[0;34m=\u001b[0m\u001b[0;32mFalse\u001b[0m\u001b[0;34m)\u001b[0m\u001b[0;34m\u001b[0m\u001b[0;34m\u001b[0m\u001b[0m\n\u001b[0m\u001b[1;32m    186\u001b[0m     \u001b[0;32melse\u001b[0m\u001b[0;34m:\u001b[0m\u001b[0;34m\u001b[0m\u001b[0;34m\u001b[0m\u001b[0m\n\u001b[1;32m    187\u001b[0m         \u001b[0mtree\u001b[0m\u001b[0;34m.\u001b[0m\u001b[0mfit\u001b[0m\u001b[0;34m(\u001b[0m\u001b[0mX\u001b[0m\u001b[0;34m,\u001b[0m \u001b[0my\u001b[0m\u001b[0;34m,\u001b[0m \u001b[0msample_weight\u001b[0m\u001b[0;34m=\u001b[0m\u001b[0msample_weight\u001b[0m\u001b[0;34m,\u001b[0m \u001b[0mcheck_input\u001b[0m\u001b[0;34m=\u001b[0m\u001b[0;32mFalse\u001b[0m\u001b[0;34m)\u001b[0m\u001b[0;34m\u001b[0m\u001b[0;34m\u001b[0m\u001b[0m\n",
            "\u001b[0;32m/usr/local/lib/python3.7/dist-packages/sklearn/tree/_classes.py\u001b[0m in \u001b[0;36mfit\u001b[0;34m(self, X, y, sample_weight, check_input, X_idx_sorted)\u001b[0m\n\u001b[1;32m    940\u001b[0m             \u001b[0msample_weight\u001b[0m\u001b[0;34m=\u001b[0m\u001b[0msample_weight\u001b[0m\u001b[0;34m,\u001b[0m\u001b[0;34m\u001b[0m\u001b[0;34m\u001b[0m\u001b[0m\n\u001b[1;32m    941\u001b[0m             \u001b[0mcheck_input\u001b[0m\u001b[0;34m=\u001b[0m\u001b[0mcheck_input\u001b[0m\u001b[0;34m,\u001b[0m\u001b[0;34m\u001b[0m\u001b[0;34m\u001b[0m\u001b[0m\n\u001b[0;32m--> 942\u001b[0;31m             \u001b[0mX_idx_sorted\u001b[0m\u001b[0;34m=\u001b[0m\u001b[0mX_idx_sorted\u001b[0m\u001b[0;34m,\u001b[0m\u001b[0;34m\u001b[0m\u001b[0;34m\u001b[0m\u001b[0m\n\u001b[0m\u001b[1;32m    943\u001b[0m         )\n\u001b[1;32m    944\u001b[0m         \u001b[0;32mreturn\u001b[0m \u001b[0mself\u001b[0m\u001b[0;34m\u001b[0m\u001b[0;34m\u001b[0m\u001b[0m\n",
            "\u001b[0;32m/usr/local/lib/python3.7/dist-packages/sklearn/tree/_classes.py\u001b[0m in \u001b[0;36mfit\u001b[0;34m(self, X, y, sample_weight, check_input, X_idx_sorted)\u001b[0m\n\u001b[1;32m    201\u001b[0m \u001b[0;34m\u001b[0m\u001b[0m\n\u001b[1;32m    202\u001b[0m         \u001b[0;32mif\u001b[0m \u001b[0mis_classification\u001b[0m\u001b[0;34m:\u001b[0m\u001b[0;34m\u001b[0m\u001b[0;34m\u001b[0m\u001b[0m\n\u001b[0;32m--> 203\u001b[0;31m             \u001b[0mcheck_classification_targets\u001b[0m\u001b[0;34m(\u001b[0m\u001b[0my\u001b[0m\u001b[0;34m)\u001b[0m\u001b[0;34m\u001b[0m\u001b[0;34m\u001b[0m\u001b[0m\n\u001b[0m\u001b[1;32m    204\u001b[0m             \u001b[0my\u001b[0m \u001b[0;34m=\u001b[0m \u001b[0mnp\u001b[0m\u001b[0;34m.\u001b[0m\u001b[0mcopy\u001b[0m\u001b[0;34m(\u001b[0m\u001b[0my\u001b[0m\u001b[0;34m)\u001b[0m\u001b[0;34m\u001b[0m\u001b[0;34m\u001b[0m\u001b[0m\n\u001b[1;32m    205\u001b[0m \u001b[0;34m\u001b[0m\u001b[0m\n",
            "\u001b[0;32m/usr/local/lib/python3.7/dist-packages/sklearn/utils/multiclass.py\u001b[0m in \u001b[0;36mcheck_classification_targets\u001b[0;34m(y)\u001b[0m\n\u001b[1;32m    187\u001b[0m     \u001b[0my\u001b[0m \u001b[0;34m:\u001b[0m \u001b[0marray\u001b[0m\u001b[0;34m-\u001b[0m\u001b[0mlike\u001b[0m\u001b[0;34m\u001b[0m\u001b[0;34m\u001b[0m\u001b[0m\n\u001b[1;32m    188\u001b[0m     \"\"\"\n\u001b[0;32m--> 189\u001b[0;31m     \u001b[0my_type\u001b[0m \u001b[0;34m=\u001b[0m \u001b[0mtype_of_target\u001b[0m\u001b[0;34m(\u001b[0m\u001b[0my\u001b[0m\u001b[0;34m)\u001b[0m\u001b[0;34m\u001b[0m\u001b[0;34m\u001b[0m\u001b[0m\n\u001b[0m\u001b[1;32m    190\u001b[0m     if y_type not in [\n\u001b[1;32m    191\u001b[0m         \u001b[0;34m\"binary\"\u001b[0m\u001b[0;34m,\u001b[0m\u001b[0;34m\u001b[0m\u001b[0;34m\u001b[0m\u001b[0m\n",
            "\u001b[0;32m/usr/local/lib/python3.7/dist-packages/sklearn/utils/multiclass.py\u001b[0m in \u001b[0;36mtype_of_target\u001b[0;34m(y)\u001b[0m\n\u001b[1;32m    325\u001b[0m         \u001b[0;32mreturn\u001b[0m \u001b[0;34m\"continuous\"\u001b[0m \u001b[0;34m+\u001b[0m \u001b[0msuffix\u001b[0m\u001b[0;34m\u001b[0m\u001b[0;34m\u001b[0m\u001b[0m\n\u001b[1;32m    326\u001b[0m \u001b[0;34m\u001b[0m\u001b[0m\n\u001b[0;32m--> 327\u001b[0;31m     \u001b[0;32mif\u001b[0m \u001b[0;34m(\u001b[0m\u001b[0mlen\u001b[0m\u001b[0;34m(\u001b[0m\u001b[0mnp\u001b[0m\u001b[0;34m.\u001b[0m\u001b[0munique\u001b[0m\u001b[0;34m(\u001b[0m\u001b[0my\u001b[0m\u001b[0;34m)\u001b[0m\u001b[0;34m)\u001b[0m \u001b[0;34m>\u001b[0m \u001b[0;36m2\u001b[0m\u001b[0;34m)\u001b[0m \u001b[0;32mor\u001b[0m \u001b[0;34m(\u001b[0m\u001b[0my\u001b[0m\u001b[0;34m.\u001b[0m\u001b[0mndim\u001b[0m \u001b[0;34m>=\u001b[0m \u001b[0;36m2\u001b[0m \u001b[0;32mand\u001b[0m \u001b[0mlen\u001b[0m\u001b[0;34m(\u001b[0m\u001b[0my\u001b[0m\u001b[0;34m[\u001b[0m\u001b[0;36m0\u001b[0m\u001b[0;34m]\u001b[0m\u001b[0;34m)\u001b[0m \u001b[0;34m>\u001b[0m \u001b[0;36m1\u001b[0m\u001b[0;34m)\u001b[0m\u001b[0;34m:\u001b[0m\u001b[0;34m\u001b[0m\u001b[0;34m\u001b[0m\u001b[0m\n\u001b[0m\u001b[1;32m    328\u001b[0m         \u001b[0;32mreturn\u001b[0m \u001b[0;34m\"multiclass\"\u001b[0m \u001b[0;34m+\u001b[0m \u001b[0msuffix\u001b[0m  \u001b[0;31m# [1, 2, 3] or [[1., 2., 3]] or [[1, 2]]\u001b[0m\u001b[0;34m\u001b[0m\u001b[0;34m\u001b[0m\u001b[0m\n\u001b[1;32m    329\u001b[0m     \u001b[0;32melse\u001b[0m\u001b[0;34m:\u001b[0m\u001b[0;34m\u001b[0m\u001b[0;34m\u001b[0m\u001b[0m\n",
            "\u001b[0;32m<__array_function__ internals>\u001b[0m in \u001b[0;36munique\u001b[0;34m(*args, **kwargs)\u001b[0m\n",
            "\u001b[0;32m/usr/local/lib/python3.7/dist-packages/numpy/lib/arraysetops.py\u001b[0m in \u001b[0;36munique\u001b[0;34m(ar, return_index, return_inverse, return_counts, axis)\u001b[0m\n\u001b[1;32m    270\u001b[0m     \u001b[0mar\u001b[0m \u001b[0;34m=\u001b[0m \u001b[0mnp\u001b[0m\u001b[0;34m.\u001b[0m\u001b[0masanyarray\u001b[0m\u001b[0;34m(\u001b[0m\u001b[0mar\u001b[0m\u001b[0;34m)\u001b[0m\u001b[0;34m\u001b[0m\u001b[0;34m\u001b[0m\u001b[0m\n\u001b[1;32m    271\u001b[0m     \u001b[0;32mif\u001b[0m \u001b[0maxis\u001b[0m \u001b[0;32mis\u001b[0m \u001b[0;32mNone\u001b[0m\u001b[0;34m:\u001b[0m\u001b[0;34m\u001b[0m\u001b[0;34m\u001b[0m\u001b[0m\n\u001b[0;32m--> 272\u001b[0;31m         \u001b[0mret\u001b[0m \u001b[0;34m=\u001b[0m \u001b[0m_unique1d\u001b[0m\u001b[0;34m(\u001b[0m\u001b[0mar\u001b[0m\u001b[0;34m,\u001b[0m \u001b[0mreturn_index\u001b[0m\u001b[0;34m,\u001b[0m \u001b[0mreturn_inverse\u001b[0m\u001b[0;34m,\u001b[0m \u001b[0mreturn_counts\u001b[0m\u001b[0;34m)\u001b[0m\u001b[0;34m\u001b[0m\u001b[0;34m\u001b[0m\u001b[0m\n\u001b[0m\u001b[1;32m    273\u001b[0m         \u001b[0;32mreturn\u001b[0m \u001b[0m_unpack_tuple\u001b[0m\u001b[0;34m(\u001b[0m\u001b[0mret\u001b[0m\u001b[0;34m)\u001b[0m\u001b[0;34m\u001b[0m\u001b[0;34m\u001b[0m\u001b[0m\n\u001b[1;32m    274\u001b[0m \u001b[0;34m\u001b[0m\u001b[0m\n",
            "\u001b[0;32m/usr/local/lib/python3.7/dist-packages/numpy/lib/arraysetops.py\u001b[0m in \u001b[0;36m_unique1d\u001b[0;34m(ar, return_index, return_inverse, return_counts)\u001b[0m\n\u001b[1;32m    331\u001b[0m         \u001b[0maux\u001b[0m \u001b[0;34m=\u001b[0m \u001b[0mar\u001b[0m\u001b[0;34m[\u001b[0m\u001b[0mperm\u001b[0m\u001b[0;34m]\u001b[0m\u001b[0;34m\u001b[0m\u001b[0;34m\u001b[0m\u001b[0m\n\u001b[1;32m    332\u001b[0m     \u001b[0;32melse\u001b[0m\u001b[0;34m:\u001b[0m\u001b[0;34m\u001b[0m\u001b[0;34m\u001b[0m\u001b[0m\n\u001b[0;32m--> 333\u001b[0;31m         \u001b[0mar\u001b[0m\u001b[0;34m.\u001b[0m\u001b[0msort\u001b[0m\u001b[0;34m(\u001b[0m\u001b[0;34m)\u001b[0m\u001b[0;34m\u001b[0m\u001b[0;34m\u001b[0m\u001b[0m\n\u001b[0m\u001b[1;32m    334\u001b[0m         \u001b[0maux\u001b[0m \u001b[0;34m=\u001b[0m \u001b[0mar\u001b[0m\u001b[0;34m\u001b[0m\u001b[0;34m\u001b[0m\u001b[0m\n\u001b[1;32m    335\u001b[0m     \u001b[0mmask\u001b[0m \u001b[0;34m=\u001b[0m \u001b[0mnp\u001b[0m\u001b[0;34m.\u001b[0m\u001b[0mempty\u001b[0m\u001b[0;34m(\u001b[0m\u001b[0maux\u001b[0m\u001b[0;34m.\u001b[0m\u001b[0mshape\u001b[0m\u001b[0;34m,\u001b[0m \u001b[0mdtype\u001b[0m\u001b[0;34m=\u001b[0m\u001b[0mnp\u001b[0m\u001b[0;34m.\u001b[0m\u001b[0mbool_\u001b[0m\u001b[0;34m)\u001b[0m\u001b[0;34m\u001b[0m\u001b[0;34m\u001b[0m\u001b[0m\n",
            "\u001b[0;31mKeyboardInterrupt\u001b[0m: "
          ]
        }
      ]
    },
    {
      "cell_type": "code",
      "source": [
        "all_feature = []"
      ],
      "metadata": {
        "id": "q5YgG78WVEcO"
      },
      "execution_count": 70,
      "outputs": []
    },
    {
      "cell_type": "code",
      "source": [
        "all_feature += get_feature(rf.feature_importances_, 5).tolist()"
      ],
      "metadata": {
        "id": "eiXL-iwCVGlc"
      },
      "execution_count": 82,
      "outputs": []
    },
    {
      "cell_type": "code",
      "source": [
        "all_feature = list(set(all_feature))\n"
      ],
      "metadata": {
        "id": "C42ZFrk0Vl9B"
      },
      "execution_count": 85,
      "outputs": []
    },
    {
      "cell_type": "code",
      "source": [
        "selected = fea_select(all, 1000,all_feature)"
      ],
      "metadata": {
        "id": "GYE7G7m-WdHd"
      },
      "execution_count": 88,
      "outputs": []
    },
    {
      "cell_type": "code",
      "source": [
        "test_raw_data(selected, c)"
      ],
      "metadata": {
        "id": "iA8POd_6WXY0",
        "outputId": "87be9977-6cb0-4039-c113-f923453f016a",
        "colab": {
          "base_uri": "https://localhost:8080/"
        }
      },
      "execution_count": 89,
      "outputs": [
        {
          "output_type": "stream",
          "name": "stdout",
          "text": [
            "random state: 0\n",
            "MLP RF LR scores: 0.3333333333333333 0.25925925925925924 0.4074074074074074\n",
            "random state: 12\n",
            "MLP RF LR scores: 0.4074074074074074 0.4074074074074074 0.37037037037037035\n",
            "random state: 34\n",
            "MLP RF LR scores: 0.2962962962962963 0.3333333333333333 0.4444444444444444\n",
            "random state: 42\n",
            "MLP RF LR scores: 0.5185185185185185 0.4074074074074074 0.2962962962962963\n",
            "random state: 75\n",
            "MLP RF LR scores: 0.4444444444444444 0.4074074074074074 0.4444444444444444\n",
            "random state: 100\n",
            "MLP RF LR scores: 0.3333333333333333 0.4444444444444444 0.48148148148148145\n",
            "random state: 150\n",
            "MLP RF LR scores: 0.25925925925925924 0.4074074074074074 0.4074074074074074\n",
            "random state: 123\n",
            "MLP RF LR scores: 0.4074074074074074 0.4074074074074074 0.4074074074074074\n",
            "random state: 343\n",
            "MLP RF LR scores: 0.37037037037037035 0.37037037037037035 0.4444444444444444\n",
            "random state: 1034\n",
            "MLP RF LR scores: 0.48148148148148145 0.4444444444444444 0.4444444444444444\n",
            "random state: 5643\n",
            "MLP RF LR scores: 0.37037037037037035 0.4444444444444444 0.4074074074074074\n",
            "avg MLP:  0.38383838383838376\n",
            "avg RF:  0.393939393939394\n",
            "avg LR:  0.41414141414141414\n",
            "highest: [0.48148148148148145, 0.4444444444444444, 0.4444444444444444]\n",
            "lowest: [0.3333333333333333, 0.25925925925925924, 0.4074074074074074]\n"
          ]
        },
        {
          "output_type": "execute_result",
          "data": {
            "text/plain": [
              "0.3973063973063973"
            ]
          },
          "metadata": {},
          "execution_count": 89
        }
      ]
    },
    {
      "cell_type": "markdown",
      "source": [
        ""
      ],
      "metadata": {
        "id": "SXItpfQ112rk"
      }
    },
    {
      "cell_type": "code",
      "execution_count": 91,
      "metadata": {
        "id": "BI4BU6mDyaOa",
        "outputId": "3702d4ee-b9ef-4b8d-a70f-e1148f6925dc",
        "colab": {
          "base_uri": "https://localhost:8080/"
        }
      },
      "outputs": [
        {
          "output_type": "stream",
          "name": "stdout",
          "text": [
            "random state: 0\n",
            "MLP RF LR scores: 0.37037037037037035 0.25925925925925924 0.4074074074074074\n",
            "random state: 12\n",
            "MLP RF LR scores: 0.37037037037037035 0.4074074074074074 0.37037037037037035\n",
            "random state: 34\n",
            "MLP RF LR scores: 0.37037037037037035 0.3333333333333333 0.4444444444444444\n",
            "random state: 42\n",
            "MLP RF LR scores: 0.5185185185185185 0.4074074074074074 0.2962962962962963\n",
            "random state: 75\n",
            "MLP RF LR scores: 0.3333333333333333 0.4444444444444444 0.4444444444444444\n",
            "random state: 100\n",
            "MLP RF LR scores: 0.4074074074074074 0.48148148148148145 0.48148148148148145\n",
            "random state: 150\n",
            "MLP RF LR scores: 0.2962962962962963 0.4444444444444444 0.4074074074074074\n",
            "random state: 123\n",
            "MLP RF LR scores: 0.37037037037037035 0.2962962962962963 0.4074074074074074\n",
            "random state: 343\n",
            "MLP RF LR scores: 0.48148148148148145 0.37037037037037035 0.4444444444444444\n",
            "random state: 1034\n",
            "MLP RF LR scores: 0.4444444444444444 0.4444444444444444 0.4444444444444444\n",
            "random state: 5643\n",
            "MLP RF LR scores: 0.4074074074074074 0.4444444444444444 0.4074074074074074\n",
            "avg MLP:  0.3973063973063973\n",
            "avg RF:  0.3939393939393939\n",
            "avg LR:  0.41414141414141414\n",
            "highest: [0.4074074074074074, 0.48148148148148145, 0.48148148148148145]\n",
            "lowest: [0.37037037037037035, 0.25925925925925924, 0.4074074074074074]\n",
            "random state: 0\n",
            "MLP RF LR scores: 0.37037037037037035 0.25925925925925924 0.4074074074074074\n",
            "random state: 12\n",
            "MLP RF LR scores: 0.37037037037037035 0.4074074074074074 0.37037037037037035\n",
            "random state: 34\n",
            "MLP RF LR scores: 0.37037037037037035 0.3333333333333333 0.4444444444444444\n",
            "random state: 42\n",
            "MLP RF LR scores: 0.5185185185185185 0.4074074074074074 0.2962962962962963\n",
            "random state: 75\n",
            "MLP RF LR scores: 0.3333333333333333 0.4444444444444444 0.4444444444444444\n",
            "random state: 100\n",
            "MLP RF LR scores: 0.4074074074074074 0.48148148148148145 0.48148148148148145\n",
            "random state: 150\n",
            "MLP RF LR scores: 0.2962962962962963 0.4444444444444444 0.4074074074074074\n",
            "random state: 123\n",
            "MLP RF LR scores: 0.37037037037037035 0.2962962962962963 0.4074074074074074\n",
            "random state: 343\n",
            "MLP RF LR scores: 0.48148148148148145 0.37037037037037035 0.4444444444444444\n",
            "random state: 1034\n",
            "MLP RF LR scores: 0.4444444444444444 0.4444444444444444 0.4444444444444444\n",
            "random state: 5643\n",
            "MLP RF LR scores: 0.4074074074074074 0.4444444444444444 0.4074074074074074\n",
            "avg MLP:  0.3973063973063973\n",
            "avg RF:  0.3939393939393939\n",
            "avg LR:  0.41414141414141414\n",
            "highest: [0.4074074074074074, 0.48148148148148145, 0.48148148148148145]\n",
            "lowest: [0.37037037037037035, 0.25925925925925924, 0.4074074074074074]\n",
            "random state: 0\n",
            "MLP RF LR scores: 0.37037037037037035 0.25925925925925924 0.4074074074074074\n",
            "random state: 12\n",
            "MLP RF LR scores: 0.37037037037037035 0.4074074074074074 0.37037037037037035\n",
            "random state: 34\n",
            "MLP RF LR scores: 0.37037037037037035 0.3333333333333333 0.4444444444444444\n",
            "random state: 42\n",
            "MLP RF LR scores: 0.5185185185185185 0.4074074074074074 0.2962962962962963\n",
            "random state: 75\n",
            "MLP RF LR scores: 0.3333333333333333 0.4444444444444444 0.4444444444444444\n",
            "random state: 100\n",
            "MLP RF LR scores: 0.4074074074074074 0.48148148148148145 0.48148148148148145\n",
            "random state: 150\n",
            "MLP RF LR scores: 0.2962962962962963 0.4444444444444444 0.4074074074074074\n",
            "random state: 123\n",
            "MLP RF LR scores: 0.37037037037037035 0.2962962962962963 0.4074074074074074\n",
            "random state: 343\n",
            "MLP RF LR scores: 0.48148148148148145 0.37037037037037035 0.4444444444444444\n",
            "random state: 1034\n",
            "MLP RF LR scores: 0.4444444444444444 0.4444444444444444 0.4444444444444444\n",
            "random state: 5643\n",
            "MLP RF LR scores: 0.4074074074074074 0.4444444444444444 0.4074074074074074\n",
            "avg MLP:  0.3973063973063973\n",
            "avg RF:  0.3939393939393939\n",
            "avg LR:  0.41414141414141414\n",
            "highest: [0.4074074074074074, 0.48148148148148145, 0.48148148148148145]\n",
            "lowest: [0.37037037037037035, 0.25925925925925924, 0.4074074074074074]\n",
            "random state: 0\n",
            "MLP RF LR scores: 0.37037037037037035 0.25925925925925924 0.4074074074074074\n",
            "random state: 12\n",
            "MLP RF LR scores: 0.37037037037037035 0.4074074074074074 0.37037037037037035\n",
            "random state: 34\n",
            "MLP RF LR scores: 0.37037037037037035 0.3333333333333333 0.4444444444444444\n",
            "random state: 42\n",
            "MLP RF LR scores: 0.5185185185185185 0.4074074074074074 0.2962962962962963\n",
            "random state: 75\n",
            "MLP RF LR scores: 0.3333333333333333 0.4444444444444444 0.4444444444444444\n",
            "random state: 100\n",
            "MLP RF LR scores: 0.4074074074074074 0.48148148148148145 0.48148148148148145\n",
            "random state: 150\n",
            "MLP RF LR scores: 0.2962962962962963 0.4444444444444444 0.4074074074074074\n",
            "random state: 123\n",
            "MLP RF LR scores: 0.37037037037037035 0.2962962962962963 0.4074074074074074\n",
            "random state: 343\n",
            "MLP RF LR scores: 0.48148148148148145 0.37037037037037035 0.4444444444444444\n",
            "random state: 1034\n",
            "MLP RF LR scores: 0.4444444444444444 0.4444444444444444 0.4444444444444444\n",
            "random state: 5643\n",
            "MLP RF LR scores: 0.4074074074074074 0.4444444444444444 0.4074074074074074\n",
            "avg MLP:  0.3973063973063973\n",
            "avg RF:  0.3939393939393939\n",
            "avg LR:  0.41414141414141414\n",
            "highest: [0.4074074074074074, 0.48148148148148145, 0.48148148148148145]\n",
            "lowest: [0.37037037037037035, 0.25925925925925924, 0.4074074074074074]\n",
            "random state: 0\n",
            "MLP RF LR scores: 0.37037037037037035 0.25925925925925924 0.4074074074074074\n",
            "random state: 12\n",
            "MLP RF LR scores: 0.37037037037037035 0.4074074074074074 0.37037037037037035\n",
            "random state: 34\n",
            "MLP RF LR scores: 0.37037037037037035 0.3333333333333333 0.4444444444444444\n",
            "random state: 42\n",
            "MLP RF LR scores: 0.5185185185185185 0.4074074074074074 0.2962962962962963\n",
            "random state: 75\n",
            "MLP RF LR scores: 0.3333333333333333 0.4444444444444444 0.4444444444444444\n",
            "random state: 100\n",
            "MLP RF LR scores: 0.4074074074074074 0.48148148148148145 0.48148148148148145\n",
            "random state: 150\n",
            "MLP RF LR scores: 0.2962962962962963 0.4444444444444444 0.4074074074074074\n",
            "random state: 123\n",
            "MLP RF LR scores: 0.37037037037037035 0.2962962962962963 0.4074074074074074\n",
            "random state: 343\n",
            "MLP RF LR scores: 0.48148148148148145 0.37037037037037035 0.4444444444444444\n",
            "random state: 1034\n",
            "MLP RF LR scores: 0.4444444444444444 0.4444444444444444 0.4444444444444444\n",
            "random state: 5643\n",
            "MLP RF LR scores: 0.4074074074074074 0.4444444444444444 0.4074074074074074\n",
            "avg MLP:  0.3973063973063973\n",
            "avg RF:  0.3939393939393939\n",
            "avg LR:  0.41414141414141414\n",
            "highest: [0.4074074074074074, 0.48148148148148145, 0.48148148148148145]\n",
            "lowest: [0.37037037037037035, 0.25925925925925924, 0.4074074074074074]\n",
            "random state: 0\n",
            "MLP RF LR scores: 0.37037037037037035 0.25925925925925924 0.4074074074074074\n",
            "random state: 12\n",
            "MLP RF LR scores: 0.37037037037037035 0.4074074074074074 0.37037037037037035\n",
            "random state: 34\n",
            "MLP RF LR scores: 0.37037037037037035 0.3333333333333333 0.4444444444444444\n",
            "random state: 42\n",
            "MLP RF LR scores: 0.5185185185185185 0.4074074074074074 0.2962962962962963\n",
            "random state: 75\n",
            "MLP RF LR scores: 0.3333333333333333 0.4444444444444444 0.4444444444444444\n",
            "random state: 100\n",
            "MLP RF LR scores: 0.4074074074074074 0.48148148148148145 0.48148148148148145\n",
            "random state: 150\n",
            "MLP RF LR scores: 0.2962962962962963 0.4444444444444444 0.4074074074074074\n",
            "random state: 123\n",
            "MLP RF LR scores: 0.37037037037037035 0.2962962962962963 0.4074074074074074\n",
            "random state: 343\n",
            "MLP RF LR scores: 0.48148148148148145 0.37037037037037035 0.4444444444444444\n",
            "random state: 1034\n",
            "MLP RF LR scores: 0.4444444444444444 0.4444444444444444 0.4444444444444444\n",
            "random state: 5643\n",
            "MLP RF LR scores: 0.4074074074074074 0.4444444444444444 0.4074074074074074\n",
            "avg MLP:  0.3973063973063973\n",
            "avg RF:  0.3939393939393939\n",
            "avg LR:  0.41414141414141414\n",
            "highest: [0.4074074074074074, 0.48148148148148145, 0.48148148148148145]\n",
            "lowest: [0.37037037037037035, 0.25925925925925924, 0.4074074074074074]\n",
            "random state: 0\n",
            "MLP RF LR scores: 0.37037037037037035 0.25925925925925924 0.4074074074074074\n",
            "random state: 12\n",
            "MLP RF LR scores: 0.37037037037037035 0.4074074074074074 0.37037037037037035\n",
            "random state: 34\n",
            "MLP RF LR scores: 0.37037037037037035 0.3333333333333333 0.4444444444444444\n",
            "random state: 42\n",
            "MLP RF LR scores: 0.5185185185185185 0.4074074074074074 0.2962962962962963\n",
            "random state: 75\n",
            "MLP RF LR scores: 0.3333333333333333 0.4444444444444444 0.4444444444444444\n",
            "random state: 100\n",
            "MLP RF LR scores: 0.4074074074074074 0.48148148148148145 0.48148148148148145\n",
            "random state: 150\n",
            "MLP RF LR scores: 0.2962962962962963 0.4444444444444444 0.4074074074074074\n",
            "random state: 123\n",
            "MLP RF LR scores: 0.37037037037037035 0.2962962962962963 0.4074074074074074\n",
            "random state: 343\n",
            "MLP RF LR scores: 0.48148148148148145 0.37037037037037035 0.4444444444444444\n",
            "random state: 1034\n",
            "MLP RF LR scores: 0.4444444444444444 0.4444444444444444 0.4444444444444444\n",
            "random state: 5643\n",
            "MLP RF LR scores: 0.4074074074074074 0.4444444444444444 0.4074074074074074\n",
            "avg MLP:  0.3973063973063973\n",
            "avg RF:  0.3939393939393939\n",
            "avg LR:  0.41414141414141414\n",
            "highest: [0.4074074074074074, 0.48148148148148145, 0.48148148148148145]\n",
            "lowest: [0.37037037037037035, 0.25925925925925924, 0.4074074074074074]\n",
            "random state: 0\n",
            "MLP RF LR scores: 0.4074074074074074 0.2222222222222222 0.4074074074074074\n",
            "random state: 12\n",
            "MLP RF LR scores: 0.3333333333333333 0.37037037037037035 0.37037037037037035\n",
            "random state: 34\n",
            "MLP RF LR scores: 0.4074074074074074 0.3333333333333333 0.4444444444444444\n",
            "random state: 42\n",
            "MLP RF LR scores: 0.48148148148148145 0.4444444444444444 0.2962962962962963\n",
            "random state: 75\n",
            "MLP RF LR scores: 0.37037037037037035 0.48148148148148145 0.4444444444444444\n",
            "random state: 100\n",
            "MLP RF LR scores: 0.4444444444444444 0.4444444444444444 0.48148148148148145\n",
            "random state: 150\n",
            "MLP RF LR scores: 0.4074074074074074 0.4074074074074074 0.4074074074074074\n",
            "random state: 123\n",
            "MLP RF LR scores: 0.37037037037037035 0.4074074074074074 0.4074074074074074\n",
            "random state: 343\n",
            "MLP RF LR scores: 0.37037037037037035 0.37037037037037035 0.4444444444444444\n",
            "random state: 1034\n",
            "MLP RF LR scores: 0.4074074074074074 0.4444444444444444 0.4444444444444444\n",
            "random state: 5643\n",
            "MLP RF LR scores: 0.37037037037037035 0.4444444444444444 0.4074074074074074\n",
            "avg MLP:  0.3973063973063973\n",
            "avg RF:  0.3973063973063973\n",
            "avg LR:  0.41414141414141414\n",
            "highest: [0.4444444444444444, 0.4444444444444444, 0.48148148148148145]\n",
            "lowest: [0.4074074074074074, 0.2222222222222222, 0.4074074074074074]\n",
            "random state: 0\n",
            "MLP RF LR scores: 0.2962962962962963 0.25925925925925924 0.4444444444444444\n",
            "random state: 12\n",
            "MLP RF LR scores: 0.4074074074074074 0.4444444444444444 0.4444444444444444\n",
            "random state: 34\n",
            "MLP RF LR scores: 0.3333333333333333 0.3333333333333333 0.48148148148148145\n",
            "random state: 42\n",
            "MLP RF LR scores: 0.37037037037037035 0.37037037037037035 0.3333333333333333\n",
            "random state: 75\n",
            "MLP RF LR scores: 0.4444444444444444 0.4444444444444444 0.4444444444444444\n",
            "random state: 100\n",
            "MLP RF LR scores: 0.4074074074074074 0.48148148148148145 0.4444444444444444\n",
            "random state: 150\n",
            "MLP RF LR scores: 0.3333333333333333 0.37037037037037035 0.4444444444444444\n",
            "random state: 123\n",
            "MLP RF LR scores: 0.4444444444444444 0.3333333333333333 0.4074074074074074\n",
            "random state: 343\n",
            "MLP RF LR scores: 0.37037037037037035 0.3333333333333333 0.4444444444444444\n",
            "random state: 1034\n",
            "MLP RF LR scores: 0.3333333333333333 0.37037037037037035 0.4444444444444444\n",
            "random state: 5643\n",
            "MLP RF LR scores: 0.2222222222222222 0.37037037037037035 0.4074074074074074\n",
            "avg MLP:  0.3602693602693603\n",
            "avg RF:  0.37373737373737376\n",
            "avg LR:  0.430976430976431\n",
            "highest: [0.4444444444444444, 0.4444444444444444, 0.4444444444444444]\n",
            "lowest: [0.2962962962962963, 0.25925925925925924, 0.4444444444444444]\n",
            "random state: 0\n",
            "MLP RF LR scores: 0.3333333333333333 0.3333333333333333 0.4074074074074074\n",
            "random state: 12\n",
            "MLP RF LR scores: 0.5185185185185185 0.4444444444444444 0.4444444444444444\n",
            "random state: 34\n",
            "MLP RF LR scores: 0.37037037037037035 0.3333333333333333 0.4444444444444444\n",
            "random state: 42\n",
            "MLP RF LR scores: 0.3333333333333333 0.3333333333333333 0.2962962962962963\n",
            "random state: 75\n",
            "MLP RF LR scores: 0.5555555555555556 0.48148148148148145 0.4444444444444444\n",
            "random state: 100\n",
            "MLP RF LR scores: 0.48148148148148145 0.48148148148148145 0.4444444444444444\n",
            "random state: 150\n",
            "MLP RF LR scores: 0.4074074074074074 0.4074074074074074 0.4074074074074074\n",
            "random state: 123\n",
            "MLP RF LR scores: 0.48148148148148145 0.4444444444444444 0.37037037037037035\n",
            "random state: 343\n",
            "MLP RF LR scores: 0.37037037037037035 0.37037037037037035 0.4444444444444444\n",
            "random state: 1034\n",
            "MLP RF LR scores: 0.25925925925925924 0.2962962962962963 0.4444444444444444\n",
            "random state: 5643\n",
            "MLP RF LR scores: 0.3333333333333333 0.3333333333333333 0.4074074074074074\n",
            "avg MLP:  0.404040404040404\n",
            "avg RF:  0.38720538720538716\n",
            "avg LR:  0.4141414141414142\n",
            "highest: [0.5555555555555556, 0.48148148148148145, 0.4444444444444444]\n",
            "lowest: [0.3333333333333333, 0.3333333333333333, 0.2962962962962963]\n",
            "N feature: 25\n",
            "random state: 0\n",
            "MLP RF LR scores: 0.3333333333333333 0.2222222222222222 0.4444444444444444\n",
            "random state: 12\n",
            "MLP RF LR scores: 0.48148148148148145 0.48148148148148145 0.4444444444444444\n",
            "random state: 34\n",
            "MLP RF LR scores: 0.4074074074074074 0.37037037037037035 0.48148148148148145\n",
            "random state: 42\n",
            "MLP RF LR scores: 0.48148148148148145 0.37037037037037035 0.3333333333333333\n",
            "random state: 75\n",
            "MLP RF LR scores: 0.5185185185185185 0.4444444444444444 0.4444444444444444\n",
            "random state: 100\n",
            "MLP RF LR scores: 0.3333333333333333 0.3333333333333333 0.4444444444444444\n",
            "random state: 150\n",
            "MLP RF LR scores: 0.4074074074074074 0.5185185185185185 0.4444444444444444\n",
            "random state: 123\n",
            "MLP RF LR scores: 0.37037037037037035 0.37037037037037035 0.4074074074074074\n",
            "random state: 343\n",
            "MLP RF LR scores: 0.3333333333333333 0.25925925925925924 0.4444444444444444\n",
            "random state: 1034\n",
            "MLP RF LR scores: 0.4444444444444444 0.4074074074074074 0.4444444444444444\n",
            "random state: 5643\n",
            "MLP RF LR scores: 0.2962962962962963 0.3333333333333333 0.4074074074074074\n",
            "avg MLP:  0.40067340067340057\n",
            "avg RF:  0.3737373737373737\n",
            "avg LR:  0.430976430976431\n",
            "highest: [0.48148148148148145, 0.48148148148148145, 0.4444444444444444]\n",
            "lowest: [0.3333333333333333, 0.2222222222222222, 0.4444444444444444]\n",
            "random state: 0\n",
            "MLP RF LR scores: 0.37037037037037035 0.25925925925925924 0.4074074074074074\n",
            "random state: 12\n",
            "MLP RF LR scores: 0.48148148148148145 0.48148148148148145 0.37037037037037035\n",
            "random state: 34\n",
            "MLP RF LR scores: 0.3333333333333333 0.37037037037037035 0.4444444444444444\n",
            "random state: 42\n",
            "MLP RF LR scores: 0.37037037037037035 0.37037037037037035 0.2962962962962963\n",
            "random state: 75\n",
            "MLP RF LR scores: 0.4444444444444444 0.5185185185185185 0.4444444444444444\n",
            "random state: 100\n",
            "MLP RF LR scores: 0.3333333333333333 0.4074074074074074 0.48148148148148145\n",
            "random state: 150\n",
            "MLP RF LR scores: 0.2962962962962963 0.4444444444444444 0.4074074074074074\n",
            "random state: 123\n",
            "MLP RF LR scores: 0.2962962962962963 0.37037037037037035 0.4074074074074074\n",
            "random state: 343\n",
            "MLP RF LR scores: 0.4444444444444444 0.37037037037037035 0.4444444444444444\n",
            "random state: 1034\n",
            "MLP RF LR scores: 0.37037037037037035 0.37037037037037035 0.4444444444444444\n",
            "random state: 5643\n",
            "MLP RF LR scores: 0.25925925925925924 0.4074074074074074 0.4074074074074074\n",
            "avg MLP:  0.3636363636363636\n",
            "avg RF:  0.3973063973063973\n",
            "avg LR:  0.41414141414141414\n",
            "highest: [0.4444444444444444, 0.5185185185185185, 0.4444444444444444]\n",
            "lowest: [0.37037037037037035, 0.25925925925925924, 0.4074074074074074]\n",
            "random state: 0\n",
            "MLP RF LR scores: 0.4074074074074074 0.2222222222222222 0.4074074074074074\n",
            "random state: 12\n",
            "MLP RF LR scores: 0.3333333333333333 0.37037037037037035 0.37037037037037035\n",
            "random state: 34\n",
            "MLP RF LR scores: 0.4074074074074074 0.3333333333333333 0.4444444444444444\n",
            "random state: 42\n",
            "MLP RF LR scores: 0.48148148148148145 0.4444444444444444 0.2962962962962963\n",
            "random state: 75\n",
            "MLP RF LR scores: 0.37037037037037035 0.48148148148148145 0.4444444444444444\n",
            "random state: 100\n",
            "MLP RF LR scores: 0.4444444444444444 0.4444444444444444 0.48148148148148145\n",
            "random state: 150\n",
            "MLP RF LR scores: 0.4074074074074074 0.4074074074074074 0.4074074074074074\n",
            "random state: 123\n",
            "MLP RF LR scores: 0.37037037037037035 0.4074074074074074 0.4074074074074074\n",
            "random state: 343\n",
            "MLP RF LR scores: 0.37037037037037035 0.37037037037037035 0.4444444444444444\n",
            "random state: 1034\n",
            "MLP RF LR scores: 0.4074074074074074 0.4444444444444444 0.4444444444444444\n",
            "random state: 5643\n",
            "MLP RF LR scores: 0.37037037037037035 0.4444444444444444 0.4074074074074074\n",
            "avg MLP:  0.3973063973063973\n",
            "avg RF:  0.3973063973063973\n",
            "avg LR:  0.41414141414141414\n",
            "highest: [0.4444444444444444, 0.4444444444444444, 0.48148148148148145]\n",
            "lowest: [0.4074074074074074, 0.2222222222222222, 0.4074074074074074]\n",
            "random state: 0\n",
            "MLP RF LR scores: 0.4444444444444444 0.2222222222222222 0.4074074074074074\n",
            "random state: 12\n",
            "MLP RF LR scores: 0.4074074074074074 0.4074074074074074 0.37037037037037035\n",
            "random state: 34\n",
            "MLP RF LR scores: 0.3333333333333333 0.3333333333333333 0.4444444444444444\n",
            "random state: 42\n",
            "MLP RF LR scores: 0.48148148148148145 0.37037037037037035 0.2962962962962963\n",
            "random state: 75\n",
            "MLP RF LR scores: 0.3333333333333333 0.48148148148148145 0.4444444444444444\n",
            "random state: 100\n",
            "MLP RF LR scores: 0.2962962962962963 0.48148148148148145 0.48148148148148145\n",
            "random state: 150\n",
            "MLP RF LR scores: 0.25925925925925924 0.4444444444444444 0.4074074074074074\n",
            "random state: 123\n",
            "MLP RF LR scores: 0.37037037037037035 0.2962962962962963 0.4074074074074074\n",
            "random state: 343\n",
            "MLP RF LR scores: 0.48148148148148145 0.37037037037037035 0.4444444444444444\n",
            "random state: 1034\n",
            "MLP RF LR scores: 0.4444444444444444 0.4444444444444444 0.4444444444444444\n",
            "random state: 5643\n",
            "MLP RF LR scores: 0.48148148148148145 0.48148148148148145 0.4074074074074074\n",
            "avg MLP:  0.3939393939393939\n",
            "avg RF:  0.3939393939393939\n",
            "avg LR:  0.41414141414141414\n",
            "highest: [0.48148148148148145, 0.48148148148148145, 0.4074074074074074]\n",
            "lowest: [0.4444444444444444, 0.2222222222222222, 0.4074074074074074]\n",
            "random state: 0\n",
            "MLP RF LR scores: 0.4074074074074074 0.25925925925925924 0.4074074074074074\n",
            "random state: 12\n",
            "MLP RF LR scores: 0.37037037037037035 0.37037037037037035 0.37037037037037035\n",
            "random state: 34\n",
            "MLP RF LR scores: 0.37037037037037035 0.3333333333333333 0.4444444444444444\n",
            "random state: 42\n",
            "MLP RF LR scores: 0.48148148148148145 0.4074074074074074 0.2962962962962963\n",
            "random state: 75\n",
            "MLP RF LR scores: 0.4074074074074074 0.48148148148148145 0.4444444444444444\n",
            "random state: 100\n",
            "MLP RF LR scores: 0.37037037037037035 0.4444444444444444 0.48148148148148145\n",
            "random state: 150\n",
            "MLP RF LR scores: 0.3333333333333333 0.4074074074074074 0.4074074074074074\n",
            "random state: 123\n",
            "MLP RF LR scores: 0.37037037037037035 0.3333333333333333 0.4074074074074074\n",
            "random state: 343\n",
            "MLP RF LR scores: 0.4074074074074074 0.4074074074074074 0.4444444444444444\n",
            "random state: 1034\n",
            "MLP RF LR scores: 0.4444444444444444 0.4444444444444444 0.4444444444444444\n",
            "random state: 5643\n",
            "MLP RF LR scores: 0.4074074074074074 0.4444444444444444 0.4074074074074074\n",
            "avg MLP:  0.3973063973063973\n",
            "avg RF:  0.3939393939393939\n",
            "avg LR:  0.41414141414141414\n",
            "highest: [0.4074074074074074, 0.48148148148148145, 0.4444444444444444]\n",
            "lowest: [0.4074074074074074, 0.25925925925925924, 0.4074074074074074]\n",
            "25 RESULT\n",
            "random state: 0\n",
            "MLP RF LR scores: 0.4074074074074074 0.2222222222222222 0.4074074074074074\n",
            "random state: 12\n",
            "MLP RF LR scores: 0.3333333333333333 0.37037037037037035 0.37037037037037035\n",
            "random state: 34\n",
            "MLP RF LR scores: 0.4074074074074074 0.3333333333333333 0.4444444444444444\n",
            "random state: 42\n",
            "MLP RF LR scores: 0.48148148148148145 0.4444444444444444 0.2962962962962963\n",
            "random state: 75\n",
            "MLP RF LR scores: 0.37037037037037035 0.48148148148148145 0.4444444444444444\n",
            "random state: 100\n",
            "MLP RF LR scores: 0.4444444444444444 0.4444444444444444 0.48148148148148145\n",
            "random state: 150\n",
            "MLP RF LR scores: 0.4074074074074074 0.4074074074074074 0.4074074074074074\n",
            "random state: 123\n",
            "MLP RF LR scores: 0.37037037037037035 0.4074074074074074 0.4074074074074074\n",
            "random state: 343\n",
            "MLP RF LR scores: 0.37037037037037035 0.37037037037037035 0.4444444444444444\n",
            "random state: 1034\n",
            "MLP RF LR scores: 0.4074074074074074 0.4444444444444444 0.4444444444444444\n",
            "random state: 5643\n",
            "MLP RF LR scores: 0.37037037037037035 0.4444444444444444 0.4074074074074074\n",
            "avg MLP:  0.3973063973063973\n",
            "avg RF:  0.3973063973063973\n",
            "avg LR:  0.41414141414141414\n",
            "highest: [0.4444444444444444, 0.4444444444444444, 0.48148148148148145]\n",
            "lowest: [0.4074074074074074, 0.2222222222222222, 0.4074074074074074]\n"
          ]
        },
        {
          "output_type": "execute_result",
          "data": {
            "text/plain": [
              "0.40291806958473625"
            ]
          },
          "metadata": {},
          "execution_count": 91
        }
      ],
      "source": [
        "find_feature_importance(selected, c, rf.feature_importances_)"
      ]
    },
    {
      "cell_type": "code",
      "execution_count": null,
      "metadata": {
        "id": "Wty5lsxOycm3"
      },
      "outputs": [],
      "source": [
        "25, 10, 5"
      ]
    },
    {
      "cell_type": "code",
      "source": [
        "selected_feature"
      ],
      "metadata": {
        "id": "wM3UdABCMEdz"
      },
      "execution_count": null,
      "outputs": []
    },
    {
      "cell_type": "code",
      "execution_count": null,
      "metadata": {
        "id": "tyP8AnigwmGI"
      },
      "outputs": [],
      "source": [
        "from scipy.stats import ttest_ind\n",
        "\n",
        "reduced = [[ row[i] for i,j in selected_feature] for row in data]\n",
        "a = [sample for idx,sample in enumerate(reduced) if classes[idx] == 1 ]\n",
        "b = [sample for idx,sample in enumerate(reduced) if classes[idx] == 2 ]\n",
        "selected_idx = [idx for idx, pvalue in enumerate(ttest_ind(a=a, b=b).pvalue) if pvalue < 0.1]"
      ]
    },
    {
      "cell_type": "code",
      "source": [
        "ttest_ind(a=a, b=b).pvalue"
      ],
      "metadata": {
        "id": "SI7qfo3tN_1S",
        "outputId": "4c8fa4e5-4636-4303-afe2-741c33f9edfa",
        "colab": {
          "base_uri": "https://localhost:8080/"
        }
      },
      "execution_count": null,
      "outputs": [
        {
          "output_type": "execute_result",
          "data": {
            "text/plain": [
              "array([0.13585762, 0.10569111, 0.03861878, 0.27230923, 0.11122833,\n",
              "       0.63485538, 0.06252678, 0.41235978, 0.12369468, 0.09344878,\n",
              "       0.06092053, 0.30262569, 0.14984626, 0.06613013, 0.20056925,\n",
              "       0.04809058, 0.03807582, 0.06664372, 0.18707519, 0.4571835 ,\n",
              "       0.09193886, 0.47000161, 0.07041175, 0.1920363 , 0.65653366,\n",
              "       0.63007217, 0.18768433, 0.10894077, 0.16506451, 0.8337846 ,\n",
              "       0.10755884, 0.14733267, 0.2232018 , 0.82530129, 0.70342569,\n",
              "       0.05562093, 0.61944177, 0.19745779, 0.11385358, 0.11234001,\n",
              "       0.2599051 , 0.10187413, 0.29277806, 0.35602031, 0.09461389,\n",
              "       0.17895267, 0.19417983, 0.76091038, 0.15596573, 0.0511738 ])"
            ]
          },
          "metadata": {},
          "execution_count": 40
        }
      ]
    },
    {
      "cell_type": "code",
      "execution_count": null,
      "metadata": {
        "id": "pyJEyK0VyoZu",
        "outputId": "a153eabf-3309-4ccc-c2da-5b2afa597aae",
        "colab": {
          "base_uri": "https://localhost:8080/"
        }
      },
      "outputs": [
        {
          "output_type": "execute_result",
          "data": {
            "text/plain": [
              "13"
            ]
          },
          "metadata": {},
          "execution_count": 46
        }
      ],
      "source": [
        "len(selected_idx)"
      ]
    },
    {
      "cell_type": "code",
      "source": [
        "reduced_ttest = [[ row[i] for i in selected_idx] for row in data]"
      ],
      "metadata": {
        "id": "zDJWZ6LHNmf-"
      },
      "execution_count": null,
      "outputs": []
    },
    {
      "cell_type": "code",
      "source": [
        "result = test_raw_data(reduced_ttest, classes)\n",
        "print(result)"
      ],
      "metadata": {
        "id": "2iU16EzBOYkn",
        "outputId": "890bb7f2-ed17-411e-d9bd-0d85265ce5cc",
        "colab": {
          "base_uri": "https://localhost:8080/"
        }
      },
      "execution_count": null,
      "outputs": [
        {
          "output_type": "stream",
          "name": "stdout",
          "text": [
            "random state: 0\n",
            "MLP RF LR scores: 0.3333333333333333 0.4 0.4666666666666667\n",
            "random state: 12\n",
            "MLP RF LR scores: 0.6 0.4666666666666667 0.4666666666666667\n",
            "random state: 34\n",
            "MLP RF LR scores: 0.4666666666666667 0.4666666666666667 0.4666666666666667\n",
            "random state: 42\n",
            "MLP RF LR scores: 0.4666666666666667 0.6 0.4666666666666667\n",
            "random state: 75\n",
            "MLP RF LR scores: 0.4 0.6 0.4666666666666667\n",
            "random state: 100\n",
            "MLP RF LR scores: 0.6666666666666666 0.6666666666666666 0.4666666666666667\n",
            "random state: 150\n",
            "MLP RF LR scores: 0.6 0.5333333333333333 0.4666666666666667\n",
            "random state: 123\n",
            "MLP RF LR scores: 0.5333333333333333 0.5333333333333333 0.4666666666666667\n",
            "random state: 343\n",
            "MLP RF LR scores: 0.6 0.5333333333333333 0.4666666666666667\n",
            "random state: 1034\n",
            "MLP RF LR scores: 0.5333333333333333 0.5333333333333333 0.4666666666666667\n",
            "random state: 5643\n",
            "MLP RF LR scores: 0.6666666666666666 0.5333333333333333 0.4666666666666667\n",
            "avg MLP:  0.5333333333333333\n",
            "avg RF:  0.5333333333333333\n",
            "avg LR:  0.46666666666666673\n",
            "highest: [0.6666666666666666, 0.6666666666666666, 0.4666666666666667]\n",
            "lowest: [0.3333333333333333, 0.4, 0.4666666666666667]\n",
            "0.5111111111111112\n"
          ]
        }
      ]
    },
    {
      "cell_type": "code",
      "source": [
        ""
      ],
      "metadata": {
        "id": "WIzjVU02OhW2"
      },
      "execution_count": null,
      "outputs": []
    }
  ],
  "metadata": {
    "colab": {
      "name": "FS_t-test.ipynb",
      "provenance": []
    },
    "kernelspec": {
      "display_name": "Python 3",
      "name": "python3"
    },
    "language_info": {
      "name": "python"
    }
  },
  "nbformat": 4,
  "nbformat_minor": 0
}