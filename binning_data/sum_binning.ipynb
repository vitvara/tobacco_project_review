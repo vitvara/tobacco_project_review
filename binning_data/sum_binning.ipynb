{
 "cells": [
  {
   "cell_type": "code",
   "execution_count": 108,
   "metadata": {},
   "outputs": [],
   "source": [
    "import pandas as pd\n",
    "import numpy as np\n",
    "import os"
   ]
  },
  {
   "cell_type": "code",
   "execution_count": 7,
   "metadata": {},
   "outputs": [
    {
     "data": {
      "text/plain": [
       "'../Raw_data_cleaned/Burley/Burley21.xlsx'"
      ]
     },
     "execution_count": 7,
     "metadata": {},
     "output_type": "execute_result"
    }
   ],
   "source": [
    "RAW_DATA_CLEANED_PATH = os.path.join(\"..\",\"Raw_data_cleaned\", \"Burley\", \"Burley21.xlsx\")\n",
    "RAW_DATA_CLEANED_PATH"
   ]
  },
  {
   "cell_type": "code",
   "execution_count": 114,
   "metadata": {},
   "outputs": [
    {
     "name": "stdout",
     "output_type": "stream",
     "text": [
      "Requirement already satisfied: xlrd in /Users/vitvaraaravithya/opt/anaconda3/lib/python3.9/site-packages (2.0.1)\n"
     ]
    }
   ],
   "source": [
    "!pip install xlrd"
   ]
  },
  {
   "cell_type": "code",
   "execution_count": 9,
   "metadata": {},
   "outputs": [],
   "source": [
    "xl = pd.read_excel(\"../R_code/Data/Fletten.xlsx\", \"Sheet1\")"
   ]
  },
  {
   "cell_type": "code",
   "execution_count": 10,
   "metadata": {},
   "outputs": [],
   "source": [
    "xl = xl * 10e9"
   ]
  },
  {
   "cell_type": "code",
   "execution_count": 12,
   "metadata": {},
   "outputs": [],
   "source": [
    "xl += 1"
   ]
  },
  {
   "cell_type": "code",
   "execution_count": 15,
   "metadata": {},
   "outputs": [],
   "source": [
    "xl.to_excel(\"../R_code/Data/FlettenUpscaled.xlsx\", index=False)"
   ]
  },
  {
   "cell_type": "code",
   "execution_count": 111,
   "metadata": {},
   "outputs": [],
   "source": [
    "import time\n",
    "def norm_sum(dataframe, interval):\n",
    "    normed_data = []\n",
    "    df = dataframe.groupby('RF')\n",
    "    for i in range(1,interval.size):\n",
    "        normed = df.filter(lambda x: np.logical_and(x[\"RF\"] < interval[i], interval[i-1] <= x[\"RF\"]))\n",
    "        new_index = np.full((normed.index.size), interval[i])\n",
    "        normed[\"RF\"] = new_index\n",
    "        if normed.groupby([\"RF\"]).sum().shape == (0,55) or normed.empty:\n",
    "            normed = normed.append(pd.Series(0, index=normed.columns), ignore_index=True)\n",
    "            normed[\"RF\"] = interval[i]\n",
    "        normed_data.append(normed.groupby([\"RF\"]).sum())\n",
    "    return pd.concat(normed_data)"
   ]
  },
  {
   "cell_type": "code",
   "execution_count": 5,
   "metadata": {},
   "outputs": [],
   "source": [
    "interval = np.arange(0,1.021 ,0.03)"
   ]
  },
  {
   "cell_type": "code",
   "execution_count": 67,
   "metadata": {},
   "outputs": [
    {
     "name": "stdout",
     "output_type": "stream",
     "text": [
      "Empty DataFrame\n",
      "Columns: []\n",
      "Index: []\n"
     ]
    },
    {
     "name": "stderr",
     "output_type": "stream",
     "text": [
      "/var/folders/_3/c51wprbd1s3gdx3xscmb36mc0000gn/T/ipykernel_22555/2064281981.py:3: FutureWarning: The frame.append method is deprecated and will be removed from pandas in a future version. Use pandas.concat instead.\n",
      "  df = df.append(pd.Series(0, index=df.columns), ignore_index=True)\n"
     ]
    },
    {
     "data": {
      "text/html": [
       "<div>\n",
       "<style scoped>\n",
       "    .dataframe tbody tr th:only-of-type {\n",
       "        vertical-align: middle;\n",
       "    }\n",
       "\n",
       "    .dataframe tbody tr th {\n",
       "        vertical-align: top;\n",
       "    }\n",
       "\n",
       "    .dataframe thead th {\n",
       "        text-align: right;\n",
       "    }\n",
       "</style>\n",
       "<table border=\"1\" class=\"dataframe\">\n",
       "  <thead>\n",
       "    <tr style=\"text-align: right;\">\n",
       "      <th></th>\n",
       "    </tr>\n",
       "    <tr>\n",
       "      <th>RF</th>\n",
       "    </tr>\n",
       "  </thead>\n",
       "  <tbody>\n",
       "    <tr>\n",
       "      <th>1.2</th>\n",
       "    </tr>\n",
       "  </tbody>\n",
       "</table>\n",
       "</div>"
      ],
      "text/plain": [
       "Empty DataFrame\n",
       "Columns: []\n",
       "Index: [1.2]"
      ]
     },
     "execution_count": 67,
     "metadata": {},
     "output_type": "execute_result"
    }
   ],
   "source": [
    "df = pd.DataFrame()\n",
    "print(df)\n",
    "df = df.append(pd.Series(0, index=df.columns), ignore_index=True)\n",
    "df[\"RF\"] = 1.2\n",
    "df.groupby([\"RF\"]).sum()\n",
    "\n"
   ]
  },
  {
   "cell_type": "code",
   "execution_count": 109,
   "metadata": {},
   "outputs": [],
   "source": [
    "normed = norm_sum(xl.iloc[:, :-1], interval)"
   ]
  },
  {
   "cell_type": "code",
   "execution_count": 110,
   "metadata": {},
   "outputs": [],
   "source": [
    "import os\n",
    "os.mkdir(os.path.join(\"..\", \"Bin_data\"))\n",
    "os.mkdir(os.path.join(\"..\", \"Bin_data\", \"Burley\"))\n",
    "os.mkdir(os.path.join(\"..\", \"Bin_data\", \"Turkish\"))\n",
    "os.mkdir(os.path.join(\"..\", \"Bin_data\", \"Virginia\"))\n"
   ]
  },
  {
   "cell_type": "code",
   "execution_count": null,
   "metadata": {},
   "outputs": [],
   "source": [
    "category_list = [\"Burley\", \"Turkish\", \"Virginia\"]\n",
    "category_color = {\"Burley\":1, \"Turkish\":2, \"Virginia\":3}\n",
    "all = []\n",
    "c = []\n",
    "for category in category_list:\n",
    "    for filename in os.listdir(os.path.join(\"..\", \"Raw_data_cleaned\", category)):\n",
    "        xl = pd.read_excel(os.path.join(\"..\", \"Raw_data_cleaned\", category, filename), \"Sheet1\")\n",
    "        normed = norm_sum(xl.iloc[:, :-1], interval)\n",
    "        if normed.shape != (34,55):\n",
    "            print(normed.shape, filename, \"==========\")\n",
    "        normed.to_excel(os.path.join(\"..\", \"Bin_data\", category, f\"{filename[:-5]}.xlsx\"))"
   ]
  },
  {
   "cell_type": "code",
   "execution_count": 121,
   "metadata": {},
   "outputs": [
    {
     "name": "stdout",
     "output_type": "stream",
     "text": [
      "['Burley56.xlsx', '.DS_Store', 'Burley21-2.xlsx', 'Burley60.xlsx', 'Burley21.xlsx', 'Burley51.xlsx', 'Burley26.xlsx', 'Burley27.xlsx', 'Burley60-2.xlsx', 'Burley2-.xlsx', 'Burley53.xlsx', 'Burley28.xlsx', 'Burley90.xlsx', 'Burley30-2.xlsx', 'Burley24.xlsx', 'Burley25.xlsx', 'Burley29.xlsx', 'Burley52.xlsx', 'Burley59.xlsx', 'Burley22.xlsx', 'Burley55.xlsx', 'Burley23.xlsx']\n"
     ]
    }
   ],
   "source": [
    "print(os.listdir(os.path.join(\"..\", \"Raw_data_cleaned\", \"Burley\")))"
   ]
  },
  {
   "cell_type": "code",
   "execution_count": 116,
   "metadata": {},
   "outputs": [],
   "source": [
    "def validation(normed):\n",
    "    if normed.shape == (155,55):\n",
    "        return True\n",
    "    return False\n",
    "    "
   ]
  },
  {
   "cell_type": "code",
   "execution_count": 7,
   "metadata": {},
   "outputs": [
    {
     "name": "stdout",
     "output_type": "stream",
     "text": [
      "\tzip warning: name not matched: Bin_data\n",
      "\n",
      "zip error: Nothing to do! (try: zip -r Bin_data.zip . -i Bin_data)\n"
     ]
    }
   ],
   "source": [
    "!zip -r Bin_data.zip Bin_data"
   ]
  },
  {
   "cell_type": "code",
   "execution_count": 84,
   "metadata": {},
   "outputs": [],
   "source": [
    "a = [[7,8,9],[4,5,6],[1,2,3]]"
   ]
  },
  {
   "cell_type": "code",
   "execution_count": 92,
   "metadata": {},
   "outputs": [],
   "source": [
    "df = pd.DataFrame(a)\n",
    "df.columns = [\"A\",\"B\",\"C\"]\n",
    "df.index = [\"D\",\"E\",\"F\"]"
   ]
  },
  {
   "cell_type": "code",
   "execution_count": 103,
   "metadata": {},
   "outputs": [
    {
     "data": {
      "text/html": [
       "<div>\n",
       "<style scoped>\n",
       "    .dataframe tbody tr th:only-of-type {\n",
       "        vertical-align: middle;\n",
       "    }\n",
       "\n",
       "    .dataframe tbody tr th {\n",
       "        vertical-align: top;\n",
       "    }\n",
       "\n",
       "    .dataframe thead th {\n",
       "        text-align: right;\n",
       "    }\n",
       "</style>\n",
       "<table border=\"1\" class=\"dataframe\">\n",
       "  <thead>\n",
       "    <tr style=\"text-align: right;\">\n",
       "      <th></th>\n",
       "      <th>A</th>\n",
       "      <th>B</th>\n",
       "      <th>C</th>\n",
       "    </tr>\n",
       "  </thead>\n",
       "  <tbody>\n",
       "    <tr>\n",
       "      <th>D</th>\n",
       "      <td>7</td>\n",
       "      <td>8</td>\n",
       "      <td>9</td>\n",
       "    </tr>\n",
       "    <tr>\n",
       "      <th>E</th>\n",
       "      <td>4</td>\n",
       "      <td>5</td>\n",
       "      <td>6</td>\n",
       "    </tr>\n",
       "    <tr>\n",
       "      <th>F</th>\n",
       "      <td>1</td>\n",
       "      <td>2</td>\n",
       "      <td>3</td>\n",
       "    </tr>\n",
       "  </tbody>\n",
       "</table>\n",
       "</div>"
      ],
      "text/plain": [
       "   A  B  C\n",
       "D  7  8  9\n",
       "E  4  5  6\n",
       "F  1  2  3"
      ]
     },
     "execution_count": 103,
     "metadata": {},
     "output_type": "execute_result"
    }
   ],
   "source": [
    "df"
   ]
  },
  {
   "cell_type": "code",
   "execution_count": 101,
   "metadata": {},
   "outputs": [],
   "source": [
    "s = df.T"
   ]
  },
  {
   "cell_type": "code",
   "execution_count": 107,
   "metadata": {},
   "outputs": [
    {
     "data": {
      "text/html": [
       "<div>\n",
       "<style scoped>\n",
       "    .dataframe tbody tr th:only-of-type {\n",
       "        vertical-align: middle;\n",
       "    }\n",
       "\n",
       "    .dataframe tbody tr th {\n",
       "        vertical-align: top;\n",
       "    }\n",
       "\n",
       "    .dataframe thead th {\n",
       "        text-align: right;\n",
       "    }\n",
       "</style>\n",
       "<table border=\"1\" class=\"dataframe\">\n",
       "  <thead>\n",
       "    <tr style=\"text-align: right;\">\n",
       "      <th></th>\n",
       "      <th>Bd</th>\n",
       "      <th>Ac</th>\n",
       "      <th>Cs</th>\n",
       "    </tr>\n",
       "  </thead>\n",
       "  <tbody>\n",
       "    <tr>\n",
       "      <th>D</th>\n",
       "      <td>NaN</td>\n",
       "      <td>NaN</td>\n",
       "      <td>NaN</td>\n",
       "    </tr>\n",
       "    <tr>\n",
       "      <th>E</th>\n",
       "      <td>NaN</td>\n",
       "      <td>NaN</td>\n",
       "      <td>NaN</td>\n",
       "    </tr>\n",
       "    <tr>\n",
       "      <th>F</th>\n",
       "      <td>NaN</td>\n",
       "      <td>NaN</td>\n",
       "      <td>NaN</td>\n",
       "    </tr>\n",
       "  </tbody>\n",
       "</table>\n",
       "</div>"
      ],
      "text/plain": [
       "   Bd  Ac  Cs\n",
       "D NaN NaN NaN\n",
       "E NaN NaN NaN\n",
       "F NaN NaN NaN"
      ]
     },
     "execution_count": 107,
     "metadata": {},
     "output_type": "execute_result"
    }
   ],
   "source": [
    "pd.DataFrame(s.T, columns=[\"Bd\",\"Ac\",\"Cs\"])"
   ]
  },
  {
   "cell_type": "code",
   "execution_count": 58,
   "metadata": {},
   "outputs": [],
   "source": [
    "xl = pd.read_excel(\"../rapidminer/data/FlettenUpScale.xls\")"
   ]
  },
  {
   "cell_type": "code",
   "execution_count": 60,
   "metadata": {},
   "outputs": [],
   "source": [
    "gel_value = xl.T.values"
   ]
  },
  {
   "cell_type": "code",
   "execution_count": 43,
   "metadata": {},
   "outputs": [],
   "source": [
    "xl.rename({\"1.1\": \"hi\"}, axis=1, inplace=True)"
   ]
  },
  {
   "cell_type": "code",
   "execution_count": 61,
   "metadata": {},
   "outputs": [],
   "source": [
    "classes = [int(str(i)[0]) for i in xl.columns]"
   ]
  },
  {
   "cell_type": "code",
   "execution_count": 62,
   "metadata": {},
   "outputs": [],
   "source": [
    "from sklearn.model_selection import train_test_split\n",
    "X_train, X_test, y_train, y_test = train_test_split(gel_value, classes, test_size=0.33, random_state=0)\n",
    "\n"
   ]
  },
  {
   "cell_type": "code",
   "execution_count": 63,
   "metadata": {},
   "outputs": [],
   "source": [
    "df_train = pd.DataFrame(X_train.T, columns=y_train)\n",
    "df_test = pd.DataFrame(X_test.T, columns=y_test)"
   ]
  },
  {
   "cell_type": "code",
   "execution_count": 75,
   "metadata": {},
   "outputs": [],
   "source": [
    "df_train.T.sort_index().T\n",
    "df_test.T.sort_index().T\n",
    "df_test = df_test.T.sort_index().T"
   ]
  },
  {
   "cell_type": "code",
   "execution_count": null,
   "metadata": {},
   "outputs": [],
   "source": [
    "pre = \"\"\n",
    "current = \"\"\n",
    "new_col = []\n",
    "for i in df_test:\n",
    "    if pre == \"\" or str(i) != current:\n",
    "        pre = 0\n",
    "        current = str(i)\n",
    "    index = \"{}.{}\".format(current,pre)\n",
    "    new_col.append(index)\n",
    "    pre += 1"
   ]
  },
  {
   "cell_type": "code",
   "execution_count": 138,
   "metadata": {},
   "outputs": [],
   "source": [
    "new_col\n",
    "df_test = pd.DataFrame(df_test.values, columns=new_col)\n",
    "df = df_test"
   ]
  },
  {
   "cell_type": "code",
   "execution_count": 139,
   "metadata": {},
   "outputs": [],
   "source": [
    "def generate_columns(df: pd.DataFrame, type: str):\n",
    "    new_col = []\n",
    "    not_type = 0\n",
    "    yes_type = 0\n",
    "    for i in df.columns:\n",
    "        print(str(i)[0] == type)\n",
    "        if str(i)[0] == type:\n",
    "            new_col.append(\"1.{}\".format(yes_type))\n",
    "            yes_type += 1\n",
    "            print(\"wth\")\n",
    "        else:\n",
    "            new_col.append(\"0.{}\".format(not_type))\n",
    "            not_type += 1\n",
    "    return new_col\n"
   ]
  },
  {
   "cell_type": "code",
   "execution_count": null,
   "metadata": {},
   "outputs": [],
   "source": [
    "df.columns = generate_columns(df, \"3\")\n"
   ]
  },
  {
   "cell_type": "code",
   "execution_count": 147,
   "metadata": {},
   "outputs": [],
   "source": [
    "test = df.T.sort_index(ascending=False).T"
   ]
  },
  {
   "cell_type": "code",
   "execution_count": 159,
   "metadata": {},
   "outputs": [
    {
     "data": {
      "text/plain": [
       "array([[11, 22, 33, 44]])"
      ]
     },
     "execution_count": 159,
     "metadata": {},
     "output_type": "execute_result"
    }
   ],
   "source": [
    "a = [[11], [22], [33], [44]]\n",
    "pd.DataFrame(a).T.values"
   ]
  },
  {
   "cell_type": "code",
   "execution_count": null,
   "metadata": {},
   "outputs": [],
   "source": [
    "[int(i[0]) for i in test.columns]"
   ]
  },
  {
   "cell_type": "code",
   "execution_count": 166,
   "metadata": {},
   "outputs": [
    {
     "data": {
      "text/html": [
       "<div>\n",
       "<style scoped>\n",
       "    .dataframe tbody tr th:only-of-type {\n",
       "        vertical-align: middle;\n",
       "    }\n",
       "\n",
       "    .dataframe tbody tr th {\n",
       "        vertical-align: top;\n",
       "    }\n",
       "\n",
       "    .dataframe thead th {\n",
       "        text-align: right;\n",
       "    }\n",
       "</style>\n",
       "<table border=\"1\" class=\"dataframe\">\n",
       "  <thead>\n",
       "    <tr style=\"text-align: right;\">\n",
       "      <th></th>\n",
       "      <th>Raw</th>\n",
       "      <th>imasdf</th>\n",
       "    </tr>\n",
       "  </thead>\n",
       "  <tbody>\n",
       "    <tr>\n",
       "      <th>0</th>\n",
       "      <td>0.222</td>\n",
       "      <td>0.2222</td>\n",
       "    </tr>\n",
       "  </tbody>\n",
       "</table>\n",
       "</div>"
      ],
      "text/plain": [
       "     Raw  imasdf\n",
       "0  0.222  0.2222"
      ]
     },
     "execution_count": 166,
     "metadata": {},
     "output_type": "execute_result"
    }
   ],
   "source": [
    "pd.DataFrame({\"Raw\":[0.222], \"imasdf\": [0.2222]})"
   ]
  }
 ],
 "metadata": {
  "interpreter": {
   "hash": "27e172346d75a4582bb5245da9c695be1f389b0618e9e8b1d5449b425b52b24b"
  },
  "kernelspec": {
   "display_name": "Python 3.9.12 ('base')",
   "language": "python",
   "name": "python3"
  },
  "language_info": {
   "codemirror_mode": {
    "name": "ipython",
    "version": 3
   },
   "file_extension": ".py",
   "mimetype": "text/x-python",
   "name": "python",
   "nbconvert_exporter": "python",
   "pygments_lexer": "ipython3",
   "version": "3.9.12"
  },
  "orig_nbformat": 4
 },
 "nbformat": 4,
 "nbformat_minor": 2
}
