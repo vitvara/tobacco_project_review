{
 "cells": [
  {
   "cell_type": "code",
   "execution_count": 1,
   "metadata": {},
   "outputs": [],
   "source": [
    "import pandas as pd\n",
    "import numpy as np\n",
    "import os"
   ]
  },
  {
   "cell_type": "code",
   "execution_count": 7,
   "metadata": {},
   "outputs": [
    {
     "data": {
      "text/plain": [
       "'../Raw_data_cleaned/Burley/Burley21.xlsx'"
      ]
     },
     "execution_count": 7,
     "metadata": {},
     "output_type": "execute_result"
    }
   ],
   "source": [
    "RAW_DATA_CLEANED_PATH = os.path.join(\"..\",\"Raw_data_cleaned\", \"Burley\", \"Burley21.xlsx\")\n",
    "RAW_DATA_CLEANED_PATH"
   ]
  },
  {
   "cell_type": "code",
   "execution_count": 221,
   "metadata": {},
   "outputs": [
    {
     "name": "stdout",
     "output_type": "stream",
     "text": [
      "Collecting xlwt\n",
      "  Using cached xlwt-1.3.0-py2.py3-none-any.whl (99 kB)\n",
      "Installing collected packages: xlwt\n",
      "Successfully installed xlwt-1.3.0\n"
     ]
    }
   ],
   "source": [
    "!pip install xlwt"
   ]
  },
  {
   "cell_type": "code",
   "execution_count": 9,
   "metadata": {},
   "outputs": [],
   "source": [
    "xl = pd.read_excel(\"../R_code/Data/Fletten.xlsx\", \"Sheet1\")"
   ]
  },
  {
   "cell_type": "code",
   "execution_count": 10,
   "metadata": {},
   "outputs": [],
   "source": [
    "xl = xl * 10e9"
   ]
  },
  {
   "cell_type": "code",
   "execution_count": 12,
   "metadata": {},
   "outputs": [],
   "source": [
    "xl += 1"
   ]
  },
  {
   "cell_type": "code",
   "execution_count": 222,
   "metadata": {},
   "outputs": [],
   "source": [
    "xl.to_excel(\"../R_code/Data/FlettenUpscaled.xlsx\", index=False)"
   ]
  },
  {
   "cell_type": "code",
   "execution_count": 62,
   "metadata": {},
   "outputs": [],
   "source": [
    "import time\n",
    "def norm_sum(dataframe, interval):\n",
    "    normed_data = []\n",
    "    for i in range(1,interval.size):\n",
    "        df = dataframe.groupby('RF')\n",
    "        normed = df.filter(lambda x: np.logical_and(x[\"RF\"] <= interval[i], interval[i-1] < x[\"RF\"])).sum()\n",
    "        normed = normed.to_list()\n",
    "        new_df = pd.DataFrame(normed[1:56]).T\n",
    "        new_df.index = [interval[i]]\n",
    "        normed_data.append(new_df)\n",
    "    return pd.concat(normed_data)"
   ]
  },
  {
   "cell_type": "code",
   "execution_count": 63,
   "metadata": {},
   "outputs": [],
   "source": [
    "interval = np.arange(0,1.01 ,0.01)"
   ]
  },
  {
   "cell_type": "code",
   "execution_count": 206,
   "metadata": {},
   "outputs": [
    {
     "data": {
      "text/html": [
       "<div>\n",
       "<style scoped>\n",
       "    .dataframe tbody tr th:only-of-type {\n",
       "        vertical-align: middle;\n",
       "    }\n",
       "\n",
       "    .dataframe tbody tr th {\n",
       "        vertical-align: top;\n",
       "    }\n",
       "\n",
       "    .dataframe thead th {\n",
       "        text-align: right;\n",
       "    }\n",
       "</style>\n",
       "<table border=\"1\" class=\"dataframe\">\n",
       "  <thead>\n",
       "    <tr style=\"text-align: right;\">\n",
       "      <th></th>\n",
       "      <th>0</th>\n",
       "      <th>1</th>\n",
       "      <th>2</th>\n",
       "      <th>3</th>\n",
       "      <th>4</th>\n",
       "      <th>5</th>\n",
       "      <th>6</th>\n",
       "      <th>7</th>\n",
       "      <th>8</th>\n",
       "      <th>9</th>\n",
       "      <th>...</th>\n",
       "      <th>45</th>\n",
       "      <th>46</th>\n",
       "      <th>47</th>\n",
       "      <th>48</th>\n",
       "      <th>49</th>\n",
       "      <th>50</th>\n",
       "      <th>51</th>\n",
       "      <th>52</th>\n",
       "      <th>53</th>\n",
       "      <th>54</th>\n",
       "    </tr>\n",
       "  </thead>\n",
       "  <tbody>\n",
       "    <tr>\n",
       "      <th>0.03</th>\n",
       "      <td>0.863725</td>\n",
       "      <td>0.59216</td>\n",
       "      <td>0.819738</td>\n",
       "      <td>0.926027</td>\n",
       "      <td>1.029129</td>\n",
       "      <td>1.612236</td>\n",
       "      <td>1.795003</td>\n",
       "      <td>1.846819</td>\n",
       "      <td>2.675471</td>\n",
       "      <td>2.502722</td>\n",
       "      <td>...</td>\n",
       "      <td>3.90978</td>\n",
       "      <td>4.34785</td>\n",
       "      <td>2.653802</td>\n",
       "      <td>2.840045</td>\n",
       "      <td>2.361755</td>\n",
       "      <td>0.0</td>\n",
       "      <td>0.0</td>\n",
       "      <td>0.0</td>\n",
       "      <td>0.0</td>\n",
       "      <td>0.0</td>\n",
       "    </tr>\n",
       "  </tbody>\n",
       "</table>\n",
       "<p>1 rows × 55 columns</p>\n",
       "</div>"
      ],
      "text/plain": [
       "            0        1         2         3         4         5         6   \\\n",
       "0.03  0.863725  0.59216  0.819738  0.926027  1.029129  1.612236  1.795003   \n",
       "\n",
       "            7         8         9   ...       45       46        47        48  \\\n",
       "0.03  1.846819  2.675471  2.502722  ...  3.90978  4.34785  2.653802  2.840045   \n",
       "\n",
       "            49   50   51   52   53   54  \n",
       "0.03  2.361755  0.0  0.0  0.0  0.0  0.0  \n",
       "\n",
       "[1 rows x 55 columns]"
      ]
     },
     "execution_count": 206,
     "metadata": {},
     "output_type": "execute_result"
    }
   ],
   "source": [
    "xl = pd.read_excel(\"../Raw_data_cleaned/Burley/Burley2-.xlsx\")\n",
    "\n",
    "new_df"
   ]
  },
  {
   "cell_type": "code",
   "execution_count": 210,
   "metadata": {},
   "outputs": [],
   "source": [
    "new_df = pd.DataFrame(columns=[range(55)])"
   ]
  },
  {
   "cell_type": "code",
   "execution_count": 212,
   "metadata": {},
   "outputs": [
    {
     "name": "stderr",
     "output_type": "stream",
     "text": [
      "/var/folders/_3/c51wprbd1s3gdx3xscmb36mc0000gn/T/ipykernel_22555/3811822044.py:1: FutureWarning: The frame.append method is deprecated and will be removed from pandas in a future version. Use pandas.concat instead.\n",
      "  new_df.append(new_df)\n"
     ]
    },
    {
     "data": {
      "text/html": [
       "<div>\n",
       "<style scoped>\n",
       "    .dataframe tbody tr th:only-of-type {\n",
       "        vertical-align: middle;\n",
       "    }\n",
       "\n",
       "    .dataframe tbody tr th {\n",
       "        vertical-align: top;\n",
       "    }\n",
       "\n",
       "    .dataframe thead th {\n",
       "        text-align: right;\n",
       "    }\n",
       "</style>\n",
       "<table border=\"1\" class=\"dataframe\">\n",
       "  <thead>\n",
       "    <tr style=\"text-align: right;\">\n",
       "      <th></th>\n",
       "      <th>(0, 1, 2, 3, 4, 5, 6, 7, 8, 9, 10, 11, 12, 13, 14, 15, 16, 17, 18, 19, 20, 21, 22, 23, 24, 25, 26, 27, 28, 29, 30, 31, 32, 33, 34, 35, 36, 37, 38, 39, 40, 41, 42, 43, 44, 45, 46, 47, 48, 49, 50, 51, 52, 53, 54)</th>\n",
       "    </tr>\n",
       "  </thead>\n",
       "  <tbody>\n",
       "  </tbody>\n",
       "</table>\n",
       "</div>"
      ],
      "text/plain": [
       "Empty DataFrame\n",
       "Columns: [(0, 1, 2, 3, 4, 5, 6, 7, 8, 9, 10, 11, 12, 13, 14, 15, 16, 17, 18, 19, 20, 21, 22, 23, 24, 25, 26, 27, 28, 29, 30, 31, 32, 33, 34, 35, 36, 37, 38, 39, 40, 41, 42, 43, 44, 45, 46, 47, 48, 49, 50, 51, 52, 53, 54)]\n",
       "Index: []"
      ]
     },
     "execution_count": 212,
     "metadata": {},
     "output_type": "execute_result"
    }
   ],
   "source": [
    "new_df.append(new_df)"
   ]
  },
  {
   "cell_type": "code",
   "execution_count": 208,
   "metadata": {},
   "outputs": [
    {
     "data": {
      "text/html": [
       "<div>\n",
       "<style scoped>\n",
       "    .dataframe tbody tr th:only-of-type {\n",
       "        vertical-align: middle;\n",
       "    }\n",
       "\n",
       "    .dataframe tbody tr th {\n",
       "        vertical-align: top;\n",
       "    }\n",
       "\n",
       "    .dataframe thead th {\n",
       "        text-align: right;\n",
       "    }\n",
       "</style>\n",
       "<table border=\"1\" class=\"dataframe\">\n",
       "  <thead>\n",
       "    <tr style=\"text-align: right;\">\n",
       "      <th></th>\n",
       "      <th>0</th>\n",
       "      <th>1</th>\n",
       "      <th>2</th>\n",
       "      <th>3</th>\n",
       "      <th>4</th>\n",
       "      <th>5</th>\n",
       "      <th>6</th>\n",
       "      <th>7</th>\n",
       "      <th>8</th>\n",
       "      <th>9</th>\n",
       "      <th>...</th>\n",
       "      <th>45</th>\n",
       "      <th>46</th>\n",
       "      <th>47</th>\n",
       "      <th>48</th>\n",
       "      <th>49</th>\n",
       "      <th>50</th>\n",
       "      <th>51</th>\n",
       "      <th>52</th>\n",
       "      <th>53</th>\n",
       "      <th>54</th>\n",
       "    </tr>\n",
       "  </thead>\n",
       "  <tbody>\n",
       "    <tr>\n",
       "      <th>0.03</th>\n",
       "      <td>0.863725</td>\n",
       "      <td>0.59216</td>\n",
       "      <td>0.819738</td>\n",
       "      <td>0.926027</td>\n",
       "      <td>1.029129</td>\n",
       "      <td>1.612236</td>\n",
       "      <td>1.795003</td>\n",
       "      <td>1.846819</td>\n",
       "      <td>2.675471</td>\n",
       "      <td>2.502722</td>\n",
       "      <td>...</td>\n",
       "      <td>3.90978</td>\n",
       "      <td>4.34785</td>\n",
       "      <td>2.653802</td>\n",
       "      <td>2.840045</td>\n",
       "      <td>2.361755</td>\n",
       "      <td>0.0</td>\n",
       "      <td>0.0</td>\n",
       "      <td>0.0</td>\n",
       "      <td>0.0</td>\n",
       "      <td>0.0</td>\n",
       "    </tr>\n",
       "  </tbody>\n",
       "</table>\n",
       "<p>1 rows × 55 columns</p>\n",
       "</div>"
      ],
      "text/plain": [
       "            0        1         2         3         4         5         6   \\\n",
       "0.03  0.863725  0.59216  0.819738  0.926027  1.029129  1.612236  1.795003   \n",
       "\n",
       "            7         8         9   ...       45       46        47        48  \\\n",
       "0.03  1.846819  2.675471  2.502722  ...  3.90978  4.34785  2.653802  2.840045   \n",
       "\n",
       "            49   50   51   52   53   54  \n",
       "0.03  2.361755  0.0  0.0  0.0  0.0  0.0  \n",
       "\n",
       "[1 rows x 55 columns]"
      ]
     },
     "execution_count": 208,
     "metadata": {},
     "output_type": "execute_result"
    }
   ],
   "source": [
    "new_df"
   ]
  },
  {
   "cell_type": "code",
   "execution_count": 61,
   "metadata": {},
   "outputs": [],
   "source": [
    "for i in range(1,interval.size):\n",
    "    df = xl.groupby('RF')\n",
    "    normed = df.filter(lambda x: np.logical_and(x[\"RF\"] < interval[1], interval[0] <= x[\"RF\"])).sum()\n",
    "    normed = normed.to_list()\n",
    "    new_df = pd.DataFrame(normed[1:56]).T\n",
    "    new_df.index = [interval[1]]\n",
    "    \n"
   ]
  },
  {
   "cell_type": "code",
   "execution_count": 4,
   "metadata": {},
   "outputs": [
    {
     "ename": "NameError",
     "evalue": "name 'interval' is not defined",
     "output_type": "error",
     "traceback": [
      "\u001b[0;31m---------------------------------------------------------------------------\u001b[0m",
      "\u001b[0;31mNameError\u001b[0m                                 Traceback (most recent call last)",
      "\u001b[1;32m/Users/vitvaraaravithya/Documents/tobacco_project_review/binning_data/sum_binning.ipynb Cell 15'\u001b[0m in \u001b[0;36m<cell line: 1>\u001b[0;34m()\u001b[0m\n\u001b[0;32m----> <a href='vscode-notebook-cell:/Users/vitvaraaravithya/Documents/tobacco_project_review/binning_data/sum_binning.ipynb#ch0000014?line=0'>1</a>\u001b[0m normed \u001b[39m=\u001b[39m norm_sum(xl\u001b[39m.\u001b[39miloc[:, :\u001b[39m-\u001b[39m\u001b[39m1\u001b[39m], interval)\n",
      "\u001b[0;31mNameError\u001b[0m: name 'interval' is not defined"
     ]
    }
   ],
   "source": [
    "normed = norm_sum(xl.iloc[:, :-1], interval)"
   ]
  },
  {
   "cell_type": "code",
   "execution_count": 110,
   "metadata": {},
   "outputs": [],
   "source": [
    "import os\n",
    "os.mkdir(os.path.join(\"..\", \"Bin_data\"))\n",
    "os.mkdir(os.path.join(\"..\", \"Bin_data\", \"Burley\"))\n",
    "os.mkdir(os.path.join(\"..\", \"Bin_data\", \"Turkish\"))\n",
    "os.mkdir(os.path.join(\"..\", \"Bin_data\", \"Virginia\"))\n"
   ]
  },
  {
   "cell_type": "code",
   "execution_count": 65,
   "metadata": {},
   "outputs": [
    {
     "name": "stdout",
     "output_type": "stream",
     "text": [
      "(100, 55)\n",
      "(100, 55)\n",
      "(100, 55)\n",
      "(100, 55)\n",
      "(100, 55)\n",
      "(100, 55)\n",
      "(100, 55)\n",
      "(100, 55)\n",
      "(100, 55)\n",
      "(100, 55)\n",
      "(100, 55)\n",
      "(100, 55)\n",
      "(100, 55)\n",
      "(100, 55)\n",
      "(100, 55)\n",
      "(100, 55)\n",
      "(100, 55)\n",
      "(100, 55)\n",
      "(100, 55)\n",
      "(100, 55)\n",
      "(100, 55)\n",
      "(100, 55)\n",
      "(100, 55)\n",
      "(100, 55)\n",
      "(100, 55)\n",
      "(100, 55)\n",
      "(100, 55)\n",
      "(100, 55)\n",
      "(100, 55)\n",
      "(100, 55)\n",
      "(100, 55)\n",
      "(100, 55)\n",
      "(100, 55)\n",
      "(100, 55)\n",
      "(100, 55)\n",
      "(100, 55)\n",
      "(100, 55)\n",
      "(100, 55)\n",
      "(100, 55)\n",
      "(100, 55)\n",
      "(100, 55)\n",
      "(100, 55)\n",
      "(100, 55)\n",
      "(100, 55)\n",
      "(100, 55)\n",
      "(100, 55)\n",
      "(100, 55)\n",
      "(100, 55)\n",
      "(100, 55)\n",
      "(100, 55)\n",
      "(100, 55)\n",
      "(100, 55)\n",
      "(100, 55)\n",
      "(100, 55)\n",
      "(100, 55)\n",
      "(100, 55)\n",
      "(100, 55)\n",
      "(100, 55)\n",
      "(100, 55)\n",
      "(100, 55)\n",
      "(100, 55)\n",
      "(100, 55)\n",
      "(100, 55)\n",
      "(100, 55)\n",
      "(100, 55)\n",
      "(100, 55)\n",
      "(100, 55)\n",
      "(100, 55)\n",
      "(100, 55)\n",
      "(100, 55)\n",
      "(100, 55)\n",
      "(100, 55)\n",
      "(100, 55)\n",
      "(100, 55)\n"
     ]
    }
   ],
   "source": [
    "category_list = [\"Burley\", \"Turkish\", \"Virginia\"]\n",
    "category_color = {\"Burley\":1, \"Turkish\":2, \"Virginia\":3}\n",
    "all = []\n",
    "c = []\n",
    "for category in category_list:\n",
    "    for filename in os.listdir(os.path.join(\"..\", \"Raw_data_cleaned\", category)):\n",
    "        xl = pd.read_excel(os.path.join(\"..\", \"Raw_data_cleaned\", category, filename), \"Sheet1\")\n",
    "        normed = norm_sum(xl.il\n",
    "        \\oc[:, :-1], interval)\n",
    "        print(normed.shape)\n",
    "        normed.to_excel(os.path.join(\"..\", \"Bin_data\", category, f\"{filename[:-5]}.xlsx\"))"
   ]
  },
  {
   "cell_type": "code",
   "execution_count": 56,
   "metadata": {},
   "outputs": [],
   "source": [
    "category_list = [\"Burley\", \"Turkish\", \"Virginia\"]\n",
    "category_color = {\"Burley\":1, \"Turkish\":2, \"Virginia\":3}\n",
    "all = []\n",
    "c = []\n",
    "samples = []\n",
    "for category in category_list:\n",
    "    for filename in os.listdir(os.path.join(\"..\", \"Bin_data\", category)):\n",
    "        df = pd.read_excel(os.path.join(\"..\", \"Bin_data\", category, filename))\n",
    "        samples.append(df)\n",
    "        c.append(category_color[category])\n",
    "        out = df.iloc[:, 1:].to_numpy().flatten().tolist()\n",
    "        all.append(out)"
   ]
  },
  {
   "cell_type": "code",
   "execution_count": 249,
   "metadata": {},
   "outputs": [],
   "source": []
  },
  {
   "cell_type": "code",
   "execution_count": null,
   "metadata": {},
   "outputs": [],
   "source": []
  },
  {
   "cell_type": "code",
   "execution_count": 57,
   "metadata": {},
   "outputs": [],
   "source": [
    "all = np.array(all)"
   ]
  },
  {
   "cell_type": "code",
   "execution_count": 27,
   "metadata": {},
   "outputs": [
    {
     "data": {
      "text/plain": [
       "(74, 1870)"
      ]
     },
     "execution_count": 27,
     "metadata": {},
     "output_type": "execute_result"
    }
   ],
   "source": [
    "all.shape"
   ]
  },
  {
   "cell_type": "code",
   "execution_count": 58,
   "metadata": {},
   "outputs": [],
   "source": [
    "new_c = []\n",
    "pre = 0\n",
    "current = 1\n",
    "for i in c:\n",
    "    if i != current:\n",
    "        current = i\n",
    "        pre = 0\n",
    "    new_c.append(f\"{i}.{pre}\")\n",
    "    pre += 1"
   ]
  },
  {
   "cell_type": "code",
   "execution_count": 252,
   "metadata": {},
   "outputs": [
    {
     "data": {
      "text/plain": [
       "74"
      ]
     },
     "execution_count": 252,
     "metadata": {},
     "output_type": "execute_result"
    }
   ],
   "source": [
    "len(all)"
   ]
  },
  {
   "cell_type": "code",
   "execution_count": 253,
   "metadata": {},
   "outputs": [
    {
     "data": {
      "text/plain": [
       "74"
      ]
     },
     "execution_count": 253,
     "metadata": {},
     "output_type": "execute_result"
    }
   ],
   "source": [
    "len(new_c)"
   ]
  },
  {
   "cell_type": "code",
   "execution_count": 29,
   "metadata": {},
   "outputs": [
    {
     "data": {
      "text/plain": [
       "(1870, 74)"
      ]
     },
     "execution_count": 29,
     "metadata": {},
     "output_type": "execute_result"
    }
   ],
   "source": [
    "all.T.shape"
   ]
  },
  {
   "cell_type": "code",
   "execution_count": 59,
   "metadata": {},
   "outputs": [],
   "source": [
    "df = pd.DataFrame(all.T, columns=new_c).replace(0,0.00000001).replace(np.nan,0.00000001) * 10e7"
   ]
  },
  {
   "cell_type": "code",
   "execution_count": 37,
   "metadata": {},
   "outputs": [
    {
     "data": {
      "text/html": [
       "<div>\n",
       "<style scoped>\n",
       "    .dataframe tbody tr th:only-of-type {\n",
       "        vertical-align: middle;\n",
       "    }\n",
       "\n",
       "    .dataframe tbody tr th {\n",
       "        vertical-align: top;\n",
       "    }\n",
       "\n",
       "    .dataframe thead th {\n",
       "        text-align: right;\n",
       "    }\n",
       "</style>\n",
       "<table border=\"1\" class=\"dataframe\">\n",
       "  <thead>\n",
       "    <tr style=\"text-align: right;\">\n",
       "      <th></th>\n",
       "      <th>1.0</th>\n",
       "      <th>1.1</th>\n",
       "      <th>1.2</th>\n",
       "      <th>1.3</th>\n",
       "      <th>1.4</th>\n",
       "      <th>1.5</th>\n",
       "      <th>1.6</th>\n",
       "      <th>1.7</th>\n",
       "      <th>1.8</th>\n",
       "      <th>1.9</th>\n",
       "      <th>...</th>\n",
       "      <th>3.18</th>\n",
       "      <th>3.19</th>\n",
       "      <th>3.20</th>\n",
       "      <th>3.21</th>\n",
       "      <th>3.22</th>\n",
       "      <th>3.23</th>\n",
       "      <th>3.24</th>\n",
       "      <th>3.25</th>\n",
       "      <th>3.26</th>\n",
       "      <th>3.27</th>\n",
       "    </tr>\n",
       "  </thead>\n",
       "  <tbody>\n",
       "    <tr>\n",
       "      <th>0</th>\n",
       "      <td>9.209879e+07</td>\n",
       "      <td>1.398739e+08</td>\n",
       "      <td>1.000000e+00</td>\n",
       "      <td>7.471883e+07</td>\n",
       "      <td>1.0</td>\n",
       "      <td>1.000000e+00</td>\n",
       "      <td>4.003941e+07</td>\n",
       "      <td>1.000000e+00</td>\n",
       "      <td>3.193139e+07</td>\n",
       "      <td>5.335022e+07</td>\n",
       "      <td>...</td>\n",
       "      <td>1.0</td>\n",
       "      <td>1.000000e+00</td>\n",
       "      <td>1.000000e+00</td>\n",
       "      <td>1.000000e+00</td>\n",
       "      <td>1.524954e+08</td>\n",
       "      <td>5.224836e+07</td>\n",
       "      <td>1.000000e+00</td>\n",
       "      <td>1.000000e+00</td>\n",
       "      <td>6.005826e+07</td>\n",
       "      <td>1.00</td>\n",
       "    </tr>\n",
       "    <tr>\n",
       "      <th>1</th>\n",
       "      <td>1.179508e+08</td>\n",
       "      <td>1.495571e+08</td>\n",
       "      <td>1.000000e+00</td>\n",
       "      <td>1.111549e+08</td>\n",
       "      <td>1.0</td>\n",
       "      <td>1.000000e+00</td>\n",
       "      <td>1.824394e+07</td>\n",
       "      <td>1.000000e+00</td>\n",
       "      <td>5.921598e+07</td>\n",
       "      <td>7.532769e+07</td>\n",
       "      <td>...</td>\n",
       "      <td>1.0</td>\n",
       "      <td>1.000000e+00</td>\n",
       "      <td>1.000000e+00</td>\n",
       "      <td>1.000000e+00</td>\n",
       "      <td>1.000000e+00</td>\n",
       "      <td>4.232078e+07</td>\n",
       "      <td>1.000000e+00</td>\n",
       "      <td>1.000000e+00</td>\n",
       "      <td>7.616112e+07</td>\n",
       "      <td>1.00</td>\n",
       "    </tr>\n",
       "    <tr>\n",
       "      <th>2</th>\n",
       "      <td>6.576795e+07</td>\n",
       "      <td>1.000000e+00</td>\n",
       "      <td>1.000000e+00</td>\n",
       "      <td>1.386037e+08</td>\n",
       "      <td>1.0</td>\n",
       "      <td>1.000000e+00</td>\n",
       "      <td>1.216015e+07</td>\n",
       "      <td>1.000000e+00</td>\n",
       "      <td>8.197376e+07</td>\n",
       "      <td>7.703090e+07</td>\n",
       "      <td>...</td>\n",
       "      <td>1.0</td>\n",
       "      <td>1.000000e+00</td>\n",
       "      <td>1.000000e+00</td>\n",
       "      <td>1.000000e+00</td>\n",
       "      <td>8.696091e+07</td>\n",
       "      <td>2.137054e+08</td>\n",
       "      <td>1.000000e+00</td>\n",
       "      <td>1.000000e+00</td>\n",
       "      <td>2.575312e+08</td>\n",
       "      <td>1.00</td>\n",
       "    </tr>\n",
       "    <tr>\n",
       "      <th>3</th>\n",
       "      <td>7.967373e+07</td>\n",
       "      <td>6.073339e+08</td>\n",
       "      <td>8.130482e+08</td>\n",
       "      <td>2.084254e+08</td>\n",
       "      <td>1.0</td>\n",
       "      <td>1.000000e+00</td>\n",
       "      <td>1.159300e+07</td>\n",
       "      <td>1.000000e+00</td>\n",
       "      <td>9.260269e+07</td>\n",
       "      <td>7.316718e+07</td>\n",
       "      <td>...</td>\n",
       "      <td>1.0</td>\n",
       "      <td>7.071497e+07</td>\n",
       "      <td>1.000000e+00</td>\n",
       "      <td>1.000000e+00</td>\n",
       "      <td>3.348333e+08</td>\n",
       "      <td>3.579584e+08</td>\n",
       "      <td>1.000000e+00</td>\n",
       "      <td>1.000000e+00</td>\n",
       "      <td>2.863867e+08</td>\n",
       "      <td>1.00</td>\n",
       "    </tr>\n",
       "    <tr>\n",
       "      <th>4</th>\n",
       "      <td>8.581816e+07</td>\n",
       "      <td>4.599811e+08</td>\n",
       "      <td>7.051555e+08</td>\n",
       "      <td>1.984982e+08</td>\n",
       "      <td>1.0</td>\n",
       "      <td>6.755564e+07</td>\n",
       "      <td>3.377668e+07</td>\n",
       "      <td>4.366643e+07</td>\n",
       "      <td>1.029129e+08</td>\n",
       "      <td>1.007850e+08</td>\n",
       "      <td>...</td>\n",
       "      <td>1.0</td>\n",
       "      <td>1.042342e+08</td>\n",
       "      <td>2.499382e+07</td>\n",
       "      <td>1.000000e+00</td>\n",
       "      <td>4.322877e+08</td>\n",
       "      <td>1.997332e+08</td>\n",
       "      <td>1.503969e+09</td>\n",
       "      <td>1.000000e+00</td>\n",
       "      <td>2.506908e+08</td>\n",
       "      <td>13558351.14</td>\n",
       "    </tr>\n",
       "    <tr>\n",
       "      <th>...</th>\n",
       "      <td>...</td>\n",
       "      <td>...</td>\n",
       "      <td>...</td>\n",
       "      <td>...</td>\n",
       "      <td>...</td>\n",
       "      <td>...</td>\n",
       "      <td>...</td>\n",
       "      <td>...</td>\n",
       "      <td>...</td>\n",
       "      <td>...</td>\n",
       "      <td>...</td>\n",
       "      <td>...</td>\n",
       "      <td>...</td>\n",
       "      <td>...</td>\n",
       "      <td>...</td>\n",
       "      <td>...</td>\n",
       "      <td>...</td>\n",
       "      <td>...</td>\n",
       "      <td>...</td>\n",
       "      <td>...</td>\n",
       "      <td>...</td>\n",
       "    </tr>\n",
       "    <tr>\n",
       "      <th>1865</th>\n",
       "      <td>1.000000e+00</td>\n",
       "      <td>1.000000e+00</td>\n",
       "      <td>1.000000e+00</td>\n",
       "      <td>1.000000e+00</td>\n",
       "      <td>1.0</td>\n",
       "      <td>1.000000e+00</td>\n",
       "      <td>1.000000e+00</td>\n",
       "      <td>1.000000e+00</td>\n",
       "      <td>2.955801e+07</td>\n",
       "      <td>1.000000e+00</td>\n",
       "      <td>...</td>\n",
       "      <td>1.0</td>\n",
       "      <td>1.000000e+00</td>\n",
       "      <td>3.180704e+08</td>\n",
       "      <td>5.479769e+07</td>\n",
       "      <td>1.000000e+00</td>\n",
       "      <td>1.000000e+00</td>\n",
       "      <td>1.000000e+00</td>\n",
       "      <td>1.000000e+00</td>\n",
       "      <td>1.000000e+00</td>\n",
       "      <td>1.00</td>\n",
       "    </tr>\n",
       "    <tr>\n",
       "      <th>1866</th>\n",
       "      <td>1.000000e+00</td>\n",
       "      <td>1.000000e+00</td>\n",
       "      <td>1.000000e+00</td>\n",
       "      <td>1.000000e+00</td>\n",
       "      <td>1.0</td>\n",
       "      <td>1.000000e+00</td>\n",
       "      <td>1.000000e+00</td>\n",
       "      <td>1.000000e+00</td>\n",
       "      <td>2.105319e+07</td>\n",
       "      <td>1.000000e+00</td>\n",
       "      <td>...</td>\n",
       "      <td>1.0</td>\n",
       "      <td>1.000000e+00</td>\n",
       "      <td>1.645736e+08</td>\n",
       "      <td>1.289571e+08</td>\n",
       "      <td>1.000000e+00</td>\n",
       "      <td>1.000000e+00</td>\n",
       "      <td>1.000000e+00</td>\n",
       "      <td>3.539783e+08</td>\n",
       "      <td>1.000000e+00</td>\n",
       "      <td>1.00</td>\n",
       "    </tr>\n",
       "    <tr>\n",
       "      <th>1867</th>\n",
       "      <td>1.000000e+00</td>\n",
       "      <td>1.000000e+00</td>\n",
       "      <td>1.000000e+00</td>\n",
       "      <td>1.000000e+00</td>\n",
       "      <td>1.0</td>\n",
       "      <td>1.000000e+00</td>\n",
       "      <td>1.000000e+00</td>\n",
       "      <td>1.000000e+00</td>\n",
       "      <td>1.213587e+07</td>\n",
       "      <td>1.000000e+00</td>\n",
       "      <td>...</td>\n",
       "      <td>1.0</td>\n",
       "      <td>1.000000e+00</td>\n",
       "      <td>1.603154e+08</td>\n",
       "      <td>1.324837e+08</td>\n",
       "      <td>1.000000e+00</td>\n",
       "      <td>1.000000e+00</td>\n",
       "      <td>1.000000e+00</td>\n",
       "      <td>1.000000e+00</td>\n",
       "      <td>1.000000e+00</td>\n",
       "      <td>1.00</td>\n",
       "    </tr>\n",
       "    <tr>\n",
       "      <th>1868</th>\n",
       "      <td>1.000000e+00</td>\n",
       "      <td>1.000000e+00</td>\n",
       "      <td>1.000000e+00</td>\n",
       "      <td>1.000000e+00</td>\n",
       "      <td>1.0</td>\n",
       "      <td>1.000000e+00</td>\n",
       "      <td>1.000000e+00</td>\n",
       "      <td>1.000000e+00</td>\n",
       "      <td>1.970762e+07</td>\n",
       "      <td>1.000000e+00</td>\n",
       "      <td>...</td>\n",
       "      <td>1.0</td>\n",
       "      <td>1.000000e+00</td>\n",
       "      <td>1.675147e+07</td>\n",
       "      <td>2.911326e+07</td>\n",
       "      <td>1.000000e+00</td>\n",
       "      <td>1.000000e+00</td>\n",
       "      <td>1.000000e+00</td>\n",
       "      <td>1.000000e+00</td>\n",
       "      <td>1.000000e+00</td>\n",
       "      <td>1.00</td>\n",
       "    </tr>\n",
       "    <tr>\n",
       "      <th>1869</th>\n",
       "      <td>1.000000e+00</td>\n",
       "      <td>1.000000e+00</td>\n",
       "      <td>1.000000e+00</td>\n",
       "      <td>1.000000e+00</td>\n",
       "      <td>1.0</td>\n",
       "      <td>1.000000e+00</td>\n",
       "      <td>1.000000e+00</td>\n",
       "      <td>1.000000e+00</td>\n",
       "      <td>1.982123e+07</td>\n",
       "      <td>1.000000e+00</td>\n",
       "      <td>...</td>\n",
       "      <td>1.0</td>\n",
       "      <td>1.000000e+00</td>\n",
       "      <td>1.000000e+00</td>\n",
       "      <td>1.862066e+08</td>\n",
       "      <td>1.000000e+00</td>\n",
       "      <td>1.000000e+00</td>\n",
       "      <td>1.000000e+00</td>\n",
       "      <td>1.000000e+00</td>\n",
       "      <td>1.000000e+00</td>\n",
       "      <td>1.00</td>\n",
       "    </tr>\n",
       "  </tbody>\n",
       "</table>\n",
       "<p>1870 rows × 74 columns</p>\n",
       "</div>"
      ],
      "text/plain": [
       "               1.0           1.1           1.2           1.3  1.4  \\\n",
       "0     9.209879e+07  1.398739e+08  1.000000e+00  7.471883e+07  1.0   \n",
       "1     1.179508e+08  1.495571e+08  1.000000e+00  1.111549e+08  1.0   \n",
       "2     6.576795e+07  1.000000e+00  1.000000e+00  1.386037e+08  1.0   \n",
       "3     7.967373e+07  6.073339e+08  8.130482e+08  2.084254e+08  1.0   \n",
       "4     8.581816e+07  4.599811e+08  7.051555e+08  1.984982e+08  1.0   \n",
       "...            ...           ...           ...           ...  ...   \n",
       "1865  1.000000e+00  1.000000e+00  1.000000e+00  1.000000e+00  1.0   \n",
       "1866  1.000000e+00  1.000000e+00  1.000000e+00  1.000000e+00  1.0   \n",
       "1867  1.000000e+00  1.000000e+00  1.000000e+00  1.000000e+00  1.0   \n",
       "1868  1.000000e+00  1.000000e+00  1.000000e+00  1.000000e+00  1.0   \n",
       "1869  1.000000e+00  1.000000e+00  1.000000e+00  1.000000e+00  1.0   \n",
       "\n",
       "               1.5           1.6           1.7           1.8           1.9  \\\n",
       "0     1.000000e+00  4.003941e+07  1.000000e+00  3.193139e+07  5.335022e+07   \n",
       "1     1.000000e+00  1.824394e+07  1.000000e+00  5.921598e+07  7.532769e+07   \n",
       "2     1.000000e+00  1.216015e+07  1.000000e+00  8.197376e+07  7.703090e+07   \n",
       "3     1.000000e+00  1.159300e+07  1.000000e+00  9.260269e+07  7.316718e+07   \n",
       "4     6.755564e+07  3.377668e+07  4.366643e+07  1.029129e+08  1.007850e+08   \n",
       "...            ...           ...           ...           ...           ...   \n",
       "1865  1.000000e+00  1.000000e+00  1.000000e+00  2.955801e+07  1.000000e+00   \n",
       "1866  1.000000e+00  1.000000e+00  1.000000e+00  2.105319e+07  1.000000e+00   \n",
       "1867  1.000000e+00  1.000000e+00  1.000000e+00  1.213587e+07  1.000000e+00   \n",
       "1868  1.000000e+00  1.000000e+00  1.000000e+00  1.970762e+07  1.000000e+00   \n",
       "1869  1.000000e+00  1.000000e+00  1.000000e+00  1.982123e+07  1.000000e+00   \n",
       "\n",
       "      ...  3.18          3.19          3.20          3.21          3.22  \\\n",
       "0     ...   1.0  1.000000e+00  1.000000e+00  1.000000e+00  1.524954e+08   \n",
       "1     ...   1.0  1.000000e+00  1.000000e+00  1.000000e+00  1.000000e+00   \n",
       "2     ...   1.0  1.000000e+00  1.000000e+00  1.000000e+00  8.696091e+07   \n",
       "3     ...   1.0  7.071497e+07  1.000000e+00  1.000000e+00  3.348333e+08   \n",
       "4     ...   1.0  1.042342e+08  2.499382e+07  1.000000e+00  4.322877e+08   \n",
       "...   ...   ...           ...           ...           ...           ...   \n",
       "1865  ...   1.0  1.000000e+00  3.180704e+08  5.479769e+07  1.000000e+00   \n",
       "1866  ...   1.0  1.000000e+00  1.645736e+08  1.289571e+08  1.000000e+00   \n",
       "1867  ...   1.0  1.000000e+00  1.603154e+08  1.324837e+08  1.000000e+00   \n",
       "1868  ...   1.0  1.000000e+00  1.675147e+07  2.911326e+07  1.000000e+00   \n",
       "1869  ...   1.0  1.000000e+00  1.000000e+00  1.862066e+08  1.000000e+00   \n",
       "\n",
       "              3.23          3.24          3.25          3.26         3.27  \n",
       "0     5.224836e+07  1.000000e+00  1.000000e+00  6.005826e+07         1.00  \n",
       "1     4.232078e+07  1.000000e+00  1.000000e+00  7.616112e+07         1.00  \n",
       "2     2.137054e+08  1.000000e+00  1.000000e+00  2.575312e+08         1.00  \n",
       "3     3.579584e+08  1.000000e+00  1.000000e+00  2.863867e+08         1.00  \n",
       "4     1.997332e+08  1.503969e+09  1.000000e+00  2.506908e+08  13558351.14  \n",
       "...            ...           ...           ...           ...          ...  \n",
       "1865  1.000000e+00  1.000000e+00  1.000000e+00  1.000000e+00         1.00  \n",
       "1866  1.000000e+00  1.000000e+00  3.539783e+08  1.000000e+00         1.00  \n",
       "1867  1.000000e+00  1.000000e+00  1.000000e+00  1.000000e+00         1.00  \n",
       "1868  1.000000e+00  1.000000e+00  1.000000e+00  1.000000e+00         1.00  \n",
       "1869  1.000000e+00  1.000000e+00  1.000000e+00  1.000000e+00         1.00  \n",
       "\n",
       "[1870 rows x 74 columns]"
      ]
     },
     "execution_count": 37,
     "metadata": {},
     "output_type": "execute_result"
    }
   ],
   "source": [
    "df"
   ]
  },
  {
   "cell_type": "code",
   "execution_count": 60,
   "metadata": {},
   "outputs": [
    {
     "name": "stderr",
     "output_type": "stream",
     "text": [
      "/var/folders/_3/c51wprbd1s3gdx3xscmb36mc0000gn/T/ipykernel_42855/1813919168.py:1: FutureWarning: As the xlwt package is no longer maintained, the xlwt engine will be removed in a future version of pandas. This is the only engine in pandas that supports writing in the xls format. Install openpyxl and write to an xlsx file instead. You can set the option io.excel.xls.writer to 'xlwt' to silence this warning. While this option is deprecated and will also raise a warning, it can be globally set and the warning suppressed.\n",
      "  df.to_excel(\"flatten_data.xls\", index=False)\n"
     ]
    }
   ],
   "source": [
    "df.to_excel(\"flatten_data.xls\", index=False)"
   ]
  },
  {
   "cell_type": "code",
   "execution_count": 121,
   "metadata": {},
   "outputs": [
    {
     "name": "stdout",
     "output_type": "stream",
     "text": [
      "['Burley56.xlsx', '.DS_Store', 'Burley21-2.xlsx', 'Burley60.xlsx', 'Burley21.xlsx', 'Burley51.xlsx', 'Burley26.xlsx', 'Burley27.xlsx', 'Burley60-2.xlsx', 'Burley2-.xlsx', 'Burley53.xlsx', 'Burley28.xlsx', 'Burley90.xlsx', 'Burley30-2.xlsx', 'Burley24.xlsx', 'Burley25.xlsx', 'Burley29.xlsx', 'Burley52.xlsx', 'Burley59.xlsx', 'Burley22.xlsx', 'Burley55.xlsx', 'Burley23.xlsx']\n"
     ]
    }
   ],
   "source": [
    "print(os.listdir(os.path.join(\"..\", \"Raw_data_cleaned\", \"Burley\")))"
   ]
  },
  {
   "cell_type": "code",
   "execution_count": 116,
   "metadata": {},
   "outputs": [],
   "source": [
    "def validation(normed):\n",
    "    if normed.shape == (155,55):\n",
    "        return True\n",
    "    return False\n",
    "    "
   ]
  },
  {
   "cell_type": "code",
   "execution_count": 7,
   "metadata": {},
   "outputs": [
    {
     "name": "stdout",
     "output_type": "stream",
     "text": [
      "\tzip warning: name not matched: Bin_data\n",
      "\n",
      "zip error: Nothing to do! (try: zip -r Bin_data.zip . -i Bin_data)\n"
     ]
    }
   ],
   "source": [
    "!zip -r Bin_data.zip Bin_data"
   ]
  },
  {
   "cell_type": "code",
   "execution_count": 84,
   "metadata": {},
   "outputs": [],
   "source": [
    "a = [[7,8,9],[4,5,6],[1,2,3]]"
   ]
  },
  {
   "cell_type": "code",
   "execution_count": 92,
   "metadata": {},
   "outputs": [],
   "source": [
    "df = pd.DataFrame(a)\n",
    "df.columns = [\"A\",\"B\",\"C\"]\n",
    "df.index = [\"D\",\"E\",\"F\"]"
   ]
  },
  {
   "cell_type": "code",
   "execution_count": 103,
   "metadata": {},
   "outputs": [
    {
     "data": {
      "text/html": [
       "<div>\n",
       "<style scoped>\n",
       "    .dataframe tbody tr th:only-of-type {\n",
       "        vertical-align: middle;\n",
       "    }\n",
       "\n",
       "    .dataframe tbody tr th {\n",
       "        vertical-align: top;\n",
       "    }\n",
       "\n",
       "    .dataframe thead th {\n",
       "        text-align: right;\n",
       "    }\n",
       "</style>\n",
       "<table border=\"1\" class=\"dataframe\">\n",
       "  <thead>\n",
       "    <tr style=\"text-align: right;\">\n",
       "      <th></th>\n",
       "      <th>A</th>\n",
       "      <th>B</th>\n",
       "      <th>C</th>\n",
       "    </tr>\n",
       "  </thead>\n",
       "  <tbody>\n",
       "    <tr>\n",
       "      <th>D</th>\n",
       "      <td>7</td>\n",
       "      <td>8</td>\n",
       "      <td>9</td>\n",
       "    </tr>\n",
       "    <tr>\n",
       "      <th>E</th>\n",
       "      <td>4</td>\n",
       "      <td>5</td>\n",
       "      <td>6</td>\n",
       "    </tr>\n",
       "    <tr>\n",
       "      <th>F</th>\n",
       "      <td>1</td>\n",
       "      <td>2</td>\n",
       "      <td>3</td>\n",
       "    </tr>\n",
       "  </tbody>\n",
       "</table>\n",
       "</div>"
      ],
      "text/plain": [
       "   A  B  C\n",
       "D  7  8  9\n",
       "E  4  5  6\n",
       "F  1  2  3"
      ]
     },
     "execution_count": 103,
     "metadata": {},
     "output_type": "execute_result"
    }
   ],
   "source": [
    "df"
   ]
  },
  {
   "cell_type": "code",
   "execution_count": 101,
   "metadata": {},
   "outputs": [],
   "source": [
    "s = df.T"
   ]
  },
  {
   "cell_type": "code",
   "execution_count": 107,
   "metadata": {},
   "outputs": [
    {
     "data": {
      "text/html": [
       "<div>\n",
       "<style scoped>\n",
       "    .dataframe tbody tr th:only-of-type {\n",
       "        vertical-align: middle;\n",
       "    }\n",
       "\n",
       "    .dataframe tbody tr th {\n",
       "        vertical-align: top;\n",
       "    }\n",
       "\n",
       "    .dataframe thead th {\n",
       "        text-align: right;\n",
       "    }\n",
       "</style>\n",
       "<table border=\"1\" class=\"dataframe\">\n",
       "  <thead>\n",
       "    <tr style=\"text-align: right;\">\n",
       "      <th></th>\n",
       "      <th>Bd</th>\n",
       "      <th>Ac</th>\n",
       "      <th>Cs</th>\n",
       "    </tr>\n",
       "  </thead>\n",
       "  <tbody>\n",
       "    <tr>\n",
       "      <th>D</th>\n",
       "      <td>NaN</td>\n",
       "      <td>NaN</td>\n",
       "      <td>NaN</td>\n",
       "    </tr>\n",
       "    <tr>\n",
       "      <th>E</th>\n",
       "      <td>NaN</td>\n",
       "      <td>NaN</td>\n",
       "      <td>NaN</td>\n",
       "    </tr>\n",
       "    <tr>\n",
       "      <th>F</th>\n",
       "      <td>NaN</td>\n",
       "      <td>NaN</td>\n",
       "      <td>NaN</td>\n",
       "    </tr>\n",
       "  </tbody>\n",
       "</table>\n",
       "</div>"
      ],
      "text/plain": [
       "   Bd  Ac  Cs\n",
       "D NaN NaN NaN\n",
       "E NaN NaN NaN\n",
       "F NaN NaN NaN"
      ]
     },
     "execution_count": 107,
     "metadata": {},
     "output_type": "execute_result"
    }
   ],
   "source": [
    "pd.DataFrame(s.T, columns=[\"Bd\",\"Ac\",\"Cs\"])"
   ]
  },
  {
   "cell_type": "code",
   "execution_count": 58,
   "metadata": {},
   "outputs": [],
   "source": [
    "xl = pd.read_excel(\"../rapidminer/data/FlettenUpScale.xls\")"
   ]
  },
  {
   "cell_type": "code",
   "execution_count": 60,
   "metadata": {},
   "outputs": [],
   "source": [
    "gel_value = xl.T.values"
   ]
  },
  {
   "cell_type": "code",
   "execution_count": 43,
   "metadata": {},
   "outputs": [],
   "source": [
    "xl.rename({\"1.1\": \"hi\"}, axis=1, inplace=True)"
   ]
  },
  {
   "cell_type": "code",
   "execution_count": 61,
   "metadata": {},
   "outputs": [],
   "source": [
    "classes = [int(str(i)[0]) for i in xl.columns]"
   ]
  },
  {
   "cell_type": "code",
   "execution_count": 62,
   "metadata": {},
   "outputs": [],
   "source": [
    "from sklearn.model_selection import train_test_split\n",
    "X_train, X_test, y_train, y_test = train_test_split(gel_value, classes, test_size=0.33, random_state=0)\n",
    "\n"
   ]
  },
  {
   "cell_type": "code",
   "execution_count": 63,
   "metadata": {},
   "outputs": [],
   "source": [
    "df_train = pd.DataFrame(X_train.T, columns=y_train)\n",
    "df_test = pd.DataFrame(X_test.T, columns=y_test)"
   ]
  },
  {
   "cell_type": "code",
   "execution_count": 75,
   "metadata": {},
   "outputs": [],
   "source": [
    "df_train.T.sort_index().T\n",
    "df_test.T.sort_index().T\n",
    "df_test = df_test.T.sort_index().T"
   ]
  },
  {
   "cell_type": "code",
   "execution_count": null,
   "metadata": {},
   "outputs": [],
   "source": [
    "pre = \"\"\n",
    "current = \"\"\n",
    "new_col = []\n",
    "for i in df_test:\n",
    "    if pre == \"\" or str(i) != current:\n",
    "        pre = 0\n",
    "        current = str(i)\n",
    "    index = \"{}.{}\".format(current,pre)\n",
    "    new_col.append(index)\n",
    "    pre += 1"
   ]
  },
  {
   "cell_type": "code",
   "execution_count": 138,
   "metadata": {},
   "outputs": [],
   "source": [
    "new_col\n",
    "df_test = pd.DataFrame(df_test.values, columns=new_col)\n",
    "df = df_test"
   ]
  },
  {
   "cell_type": "code",
   "execution_count": 139,
   "metadata": {},
   "outputs": [],
   "source": [
    "def generate_columns(df: pd.DataFrame, type: str):\n",
    "    new_col = []\n",
    "    not_type = 0\n",
    "    yes_type = 0\n",
    "    for i in df.columns:\n",
    "        print(str(i)[0] == type)\n",
    "        if str(i)[0] == type:\n",
    "            new_col.append(\"1.{}\".format(yes_type))\n",
    "            yes_type += 1\n",
    "            print(\"wth\")\n",
    "        else:\n",
    "            new_col.append(\"0.{}\".format(not_type))\n",
    "            not_type += 1\n",
    "    return new_col\n"
   ]
  },
  {
   "cell_type": "code",
   "execution_count": null,
   "metadata": {},
   "outputs": [],
   "source": [
    "df.columns = generate_columns(df, \"3\")\n"
   ]
  },
  {
   "cell_type": "code",
   "execution_count": 147,
   "metadata": {},
   "outputs": [],
   "source": [
    "test = df.T.sort_index(ascending=False).T"
   ]
  },
  {
   "cell_type": "code",
   "execution_count": 159,
   "metadata": {},
   "outputs": [
    {
     "data": {
      "text/plain": [
       "array([[11, 22, 33, 44]])"
      ]
     },
     "execution_count": 159,
     "metadata": {},
     "output_type": "execute_result"
    }
   ],
   "source": [
    "a = [[11], [22], [33], [44]]\n",
    "pd.DataFrame(a).T.values"
   ]
  },
  {
   "cell_type": "code",
   "execution_count": null,
   "metadata": {},
   "outputs": [],
   "source": [
    "[int(i[0]) for i in test.columns]"
   ]
  },
  {
   "cell_type": "code",
   "execution_count": 166,
   "metadata": {},
   "outputs": [
    {
     "data": {
      "text/html": [
       "<div>\n",
       "<style scoped>\n",
       "    .dataframe tbody tr th:only-of-type {\n",
       "        vertical-align: middle;\n",
       "    }\n",
       "\n",
       "    .dataframe tbody tr th {\n",
       "        vertical-align: top;\n",
       "    }\n",
       "\n",
       "    .dataframe thead th {\n",
       "        text-align: right;\n",
       "    }\n",
       "</style>\n",
       "<table border=\"1\" class=\"dataframe\">\n",
       "  <thead>\n",
       "    <tr style=\"text-align: right;\">\n",
       "      <th></th>\n",
       "      <th>Raw</th>\n",
       "      <th>imasdf</th>\n",
       "    </tr>\n",
       "  </thead>\n",
       "  <tbody>\n",
       "    <tr>\n",
       "      <th>0</th>\n",
       "      <td>0.222</td>\n",
       "      <td>0.2222</td>\n",
       "    </tr>\n",
       "  </tbody>\n",
       "</table>\n",
       "</div>"
      ],
      "text/plain": [
       "     Raw  imasdf\n",
       "0  0.222  0.2222"
      ]
     },
     "execution_count": 166,
     "metadata": {},
     "output_type": "execute_result"
    }
   ],
   "source": [
    "pd.DataFrame({\"Raw\":[0.222], \"imasdf\": [0.2222]})"
   ]
  }
 ],
 "metadata": {
  "interpreter": {
   "hash": "27e172346d75a4582bb5245da9c695be1f389b0618e9e8b1d5449b425b52b24b"
  },
  "kernelspec": {
   "display_name": "Python 3.9.12 ('base')",
   "language": "python",
   "name": "python3"
  },
  "language_info": {
   "codemirror_mode": {
    "name": "ipython",
    "version": 3
   },
   "file_extension": ".py",
   "mimetype": "text/x-python",
   "name": "python",
   "nbconvert_exporter": "python",
   "pygments_lexer": "ipython3",
   "version": "3.9.12"
  },
  "orig_nbformat": 4
 },
 "nbformat": 4,
 "nbformat_minor": 2
}
